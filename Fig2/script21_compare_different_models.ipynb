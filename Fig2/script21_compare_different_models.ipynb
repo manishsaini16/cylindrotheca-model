{
 "cells": [
  {
   "cell_type": "markdown",
   "metadata": {
    "toc": true
   },
   "source": [
    "<h1>Table of Contents<span class=\"tocSkip\"></span></h1>\n",
    "<div class=\"toc\"><ul class=\"toc-item\"><li><ul class=\"toc-item\"><li><span><a href=\"#Comparing-genes,-metabolites,-and-reactions-between-different-diatom-models\" data-toc-modified-id=\"Comparing-genes,-metabolites,-and-reactions-between-different-diatom-models-0.1\"><span class=\"toc-item-num\">0.1&nbsp;&nbsp;</span>Comparing genes, metabolites, and reactions between different diatom models</a></span></li></ul></li><li><span><a href=\"#Multiple-Correspondence-Analysis\" data-toc-modified-id=\"Multiple-Correspondence-Analysis-1\"><span class=\"toc-item-num\">1&nbsp;&nbsp;</span>Multiple Correspondence Analysis</a></span><ul class=\"toc-item\"><li><span><a href=\"#Reactions\" data-toc-modified-id=\"Reactions-1.1\"><span class=\"toc-item-num\">1.1&nbsp;&nbsp;</span>Reactions</a></span></li><li><span><a href=\"#Metabolites\" data-toc-modified-id=\"Metabolites-1.2\"><span class=\"toc-item-num\">1.2&nbsp;&nbsp;</span>Metabolites</a></span></li><li><span><a href=\"#Comparing-metabolic-content\" data-toc-modified-id=\"Comparing-metabolic-content-1.3\"><span class=\"toc-item-num\">1.3&nbsp;&nbsp;</span>Comparing metabolic content</a></span></li></ul></li><li><span><a href=\"#Comparing-distribution-of-rxns-among-different-pathways\" data-toc-modified-id=\"Comparing-distribution-of-rxns-among-different-pathways-2\"><span class=\"toc-item-num\">2&nbsp;&nbsp;</span>Comparing distribution of rxns among different pathways</a></span></li><li><span><a href=\"#Size-of-four-diatom-genomes\" data-toc-modified-id=\"Size-of-four-diatom-genomes-3\"><span class=\"toc-item-num\">3&nbsp;&nbsp;</span>Size of four diatom genomes</a></span></li></ul></div>"
   ]
  },
  {
   "cell_type": "code",
   "execution_count": 1,
   "metadata": {},
   "outputs": [],
   "source": [
    "#%matplotlib inline\n",
    "import pandas as pd\n",
    "import numpy as np\n",
    "import xlrd\n",
    "import seaborn as sns\n",
    "import matplotlib.pyplot as plt\n",
    "import matplotlib.patches as mpatches\n",
    "from functools import reduce\n",
    "import glob\n",
    "import os\n",
    "import cobra\n",
    "import re\n",
    "from jupyterthemes import jtplot\n",
    "from tqdm import tqdm\n",
    "import mca\n",
    "from brokenaxes import brokenaxes\n",
    "pd.options.mode.chained_assignment = None\n",
    "jtplot.style(theme='grade3', grid=False)"
   ]
  },
  {
   "cell_type": "markdown",
   "metadata": {},
   "source": [
    "## Comparing genes, metabolites, and reactions between different diatom models"
   ]
  },
  {
   "cell_type": "code",
   "execution_count": 144,
   "metadata": {},
   "outputs": [],
   "source": [
    "df_mets = pd.read_csv(os.path.join(file_path, 'proceed_all_mets.txt'), sep='\\t', index_col=0)\n",
    "df_rxns_no_comp = pd.read_csv(os.path.join(file_path, 'proceed_all_rxns_no_comp.txt'), sep='\\t', index_col=0)"
   ]
  },
  {
   "cell_type": "code",
   "execution_count": 151,
   "metadata": {
    "scrolled": true
   },
   "outputs": [
    {
     "data": {
      "image/png": "[encoded data removed]",
      "text/plain": [
       "<Figure size 288x216 with 1 Axes>"
      ]
     },
     "metadata": {},
     "output_type": "display_data"
    }
   ],
   "source": [
    "width = 0.2       # the width of the bars: can also be len(x) sequence\n",
    "items = ['iMK_draft17','iTps1432','iLB1027_lipid','iThaps987_BiGG_original','Lavoie2020']\n",
    "values_met = [len(df_mets.iMK_draft17.unique()),\n",
    "            len(df_mets.iTps1432.unique()),\n",
    "            len(df_mets.iLB1027_lipid.unique()), \n",
    "            #len(data.iRC1080.unique()),\n",
    "            len(df_mets.iThaps987_BiGG_original.unique()),\n",
    "            len(df_mets.Lavoie2020.unique())]\n",
    "values_rxn = [len(df_rxns_no_comp.iMK_draft17_reactions.unique()),\n",
    "           len(df_rxns_no_comp.iTps1432_reactions.unique()),\n",
    "           len(df_rxns_no_comp.iLB1027_lipid_reactions.unique()),\n",
    "           len(df_rxns_no_comp.iThaps987_BiGG_original.unique()),\n",
    "           len(df_rxns_no_comp.Lavoie2020_reactions.unique())]\n",
    "values_gene = [1961, 1432, 1027, 987, 830]\n",
    "#print(values)\n",
    "#change_values = [459, 316, 104]\n",
    "fig, ax = plt.subplots(figsize=(4,3))\n",
    "\n",
    "#['#ca0020','#f4a582','#bababa','#404040']\n",
    "x = np.arange(len(items))  # the label locations\n",
    "\n",
    "#['#d7191c','#fdae61','#abd9e9','#2c7bb6']\n",
    "ax.barh(x-width, values_gene, width, label='Genes', color= '#abd9e9')\n",
    "ax.barh(x, values_met, width, label='Metabolites', color= '#fdae61')\n",
    "ax.barh(x+width, values_rxn, width, label='Reactions', color= '#2c7fb8')\n",
    "\n",
    "#ax.barh(items, change_values, width, left=old_values,\n",
    "           #label='Newly added', color= '#08519c')\n",
    "\n",
    "ax.set_xlabel('Count')\n",
    "ax.set_ylabel('Diatom models')\n",
    "#ax.set_title('Comparison based on metabolites')\n",
    "ax.legend()\n",
    "ax.invert_yaxis()\n",
    "ax.set_yticks(np.arange(5),['iMK1961', 'iTps1432', 'iLB1027_lipid',  'iThaps987',  'iML830'])\n",
    "    \n",
    "plt.xticks(rotation=90)\n",
    "#plt.figure(figsize=(2,2))\n",
    "plt.rcParams['svg.fonttype'] = 'none'\n",
    "#plt.savefig('main_features_bar_18.05.svg')\n",
    "plt.show()"
   ]
  },
  {
   "cell_type": "markdown",
   "metadata": {},
   "source": [
    "# Multiple Correspondence Analysis"
   ]
  },
  {
   "cell_type": "markdown",
   "metadata": {},
   "source": [
    "## Reactions"
   ]
  },
  {
   "cell_type": "code",
   "execution_count": 2,
   "metadata": {},
   "outputs": [],
   "source": [
    "# LOAD RXN DATA\n",
    "df_rxns_no_comp = pd.read_csv('proceed_all_rxns_no_comp.txt', sep='\\t', index_col=0)"
   ]
  },
  {
   "cell_type": "code",
   "execution_count": 3,
   "metadata": {},
   "outputs": [],
   "source": [
    "## REMOVE THE IRC MODEL and iThaps987 AS IT HAS DIFFERENT REACTION IDS\n",
    "rxn_col = list(df_rxns_no_comp.columns[df_rxns_no_comp.columns.str.contains('_reactions|iThaps987_BiGG_original')])\n",
    "rxn_col.remove('iRC1080_reactions')\n",
    "rxn_col.remove('iThaps987_BiGG_original') \n",
    "df_rxns = df_rxns_no_comp[rxn_col]"
   ]
  },
  {
   "cell_type": "code",
   "execution_count": 4,
   "metadata": {},
   "outputs": [],
   "source": [
    "# TAKE A SET OF UNIQUE RXNS IN SEPARATE DATAFRAME\n",
    "df_all_rxns = df_rxns.unstack().to_frame(name='rxn').reset_index(drop=True).drop_duplicates(keep='first').reset_index(drop=True)"
   ]
  },
  {
   "cell_type": "code",
   "execution_count": 5,
   "metadata": {},
   "outputs": [],
   "source": [
    "## CONVERT THE RXN DATA TO BINARY DATA BY COMPARING RXNS IDS OF EACH MODEL WITH FULL LIST\n",
    "for i,model in enumerate(df_rxns.columns):\n",
    "    df_all_rxns[model] = df_all_rxns.rxn.isin(list(df_rxns[model]))\n",
    "    df_all_rxns[model] = df_all_rxns[model].astype(int)"
   ]
  },
  {
   "cell_type": "code",
   "execution_count": 6,
   "metadata": {},
   "outputs": [],
   "source": [
    "## REMOVE NANs FROM DATA\n",
    "df_all_rxns[df_all_rxns.rxn.notna()].reset_index(drop=True, inplace=True)\n",
    "df_all_rxns = df_all_rxns.set_index('rxn')"
   ]
  },
  {
   "cell_type": "markdown",
   "metadata": {},
   "source": [
    "## Metabolites"
   ]
  },
  {
   "cell_type": "code",
   "execution_count": 7,
   "metadata": {},
   "outputs": [],
   "source": [
    "# LOAD MET DATA\n",
    "df_mets = pd.read_csv('proceed_all_mets.txt', sep='\\t', index_col=0)"
   ]
  },
  {
   "cell_type": "code",
   "execution_count": 8,
   "metadata": {},
   "outputs": [],
   "source": [
    "## REMOVE THE IRC MODEL AS IT HAS DIFFERENT MET IDS\n",
    "met_col = list(df_mets.columns)\n",
    "temp_list = ['iRC1080', 'iThaps987_BiGG_original','iThaps987_original','itHaps987_MetaCyc' , 'iThaps987_BiGG']\n",
    "for i, item in enumerate(temp_list):\n",
    "    met_col.remove(item)\n",
    "df_mets = df_mets[met_col]"
   ]
  },
  {
   "cell_type": "code",
   "execution_count": 9,
   "metadata": {},
   "outputs": [],
   "source": [
    "# TAKE A SET OF UNIQUE METs IN SEPARATE DATAFRAME\n",
    "df_all_mets = df_mets.unstack().to_frame(name='met').reset_index(drop=True).drop_duplicates(keep='first').reset_index(drop=True)"
   ]
  },
  {
   "cell_type": "code",
   "execution_count": 10,
   "metadata": {},
   "outputs": [],
   "source": [
    "## CONVERT MET DATA TO BINARY DATA BY COMPARING MET IDS OF EACH MODEL WITH FULL LIST\n",
    "for i,model in enumerate(df_mets.columns):\n",
    "    df_all_mets[model] = df_all_mets.met.isin(list(df_mets[model]))\n",
    "    df_all_mets[model] = df_all_mets[model].astype(int)\n",
    "    "
   ]
  },
  {
   "cell_type": "code",
   "execution_count": 11,
   "metadata": {},
   "outputs": [],
   "source": [
    "## REMOVE THE NAN FROM DATA\n",
    "df_all_mets[df_all_mets.met.notna()].reset_index(drop=True, inplace=True)\n",
    "df_all_mets = df_all_mets.set_index('met')"
   ]
  },
  {
   "cell_type": "markdown",
   "metadata": {},
   "source": [
    "## Comparing metabolic content"
   ]
  },
  {
   "cell_type": "code",
   "execution_count": 12,
   "metadata": {},
   "outputs": [],
   "source": [
    "df_all_rxns_modif = df_all_rxns.copy()"
   ]
  },
  {
   "cell_type": "code",
   "execution_count": 13,
   "metadata": {},
   "outputs": [],
   "source": [
    "df_all_mets_modif = df_all_mets.copy()"
   ]
  },
  {
   "cell_type": "code",
   "execution_count": 14,
   "metadata": {},
   "outputs": [],
   "source": [
    "df_all_rxns_modif.index.name = 'items'\n",
    "df_all_mets_modif.index.name = 'items'"
   ]
  },
  {
   "cell_type": "code",
   "execution_count": 15,
   "metadata": {},
   "outputs": [],
   "source": [
    "df_all_rxns_modif.columns = df_all_mets_modif.columns"
   ]
  },
  {
   "cell_type": "code",
   "execution_count": 16,
   "metadata": {},
   "outputs": [],
   "source": [
    "df_all_rxns_mets = pd.concat([df_all_rxns_modif, df_all_mets_modif])"
   ]
  },
  {
   "cell_type": "code",
   "execution_count": 17,
   "metadata": {
    "scrolled": true
   },
   "outputs": [
    {
     "data": {
      "text/html": [
       "<div>\n",
       "<style scoped>\n",
       "    .dataframe tbody tr th:only-of-type {\n",
       "        vertical-align: middle;\n",
       "    }\n",
       "\n",
       "    .dataframe tbody tr th {\n",
       "        vertical-align: top;\n",
       "    }\n",
       "\n",
       "    .dataframe thead th {\n",
       "        text-align: right;\n",
       "    }\n",
       "</style>\n",
       "<table border=\"1\" class=\"dataframe\">\n",
       "  <thead>\n",
       "    <tr style=\"text-align: right;\">\n",
       "      <th></th>\n",
       "      <th>iLB1027_lipid</th>\n",
       "      <th>iMK_draft17</th>\n",
       "      <th>iTps1432</th>\n",
       "      <th>Lavoie2020</th>\n",
       "    </tr>\n",
       "    <tr>\n",
       "      <th>items</th>\n",
       "      <th></th>\n",
       "      <th></th>\n",
       "      <th></th>\n",
       "      <th></th>\n",
       "    </tr>\n",
       "  </thead>\n",
       "  <tbody>\n",
       "    <tr>\n",
       "      <th>ATPS4m</th>\n",
       "      <td>1</td>\n",
       "      <td>0</td>\n",
       "      <td>0</td>\n",
       "      <td>0</td>\n",
       "    </tr>\n",
       "    <tr>\n",
       "      <th>IDP</th>\n",
       "      <td>1</td>\n",
       "      <td>1</td>\n",
       "      <td>1</td>\n",
       "      <td>1</td>\n",
       "    </tr>\n",
       "    <tr>\n",
       "      <th>PPAm</th>\n",
       "      <td>1</td>\n",
       "      <td>1</td>\n",
       "      <td>0</td>\n",
       "      <td>0</td>\n",
       "    </tr>\n",
       "    <tr>\n",
       "      <th>THD1m</th>\n",
       "      <td>1</td>\n",
       "      <td>1</td>\n",
       "      <td>0</td>\n",
       "      <td>0</td>\n",
       "    </tr>\n",
       "    <tr>\n",
       "      <th>ADK1</th>\n",
       "      <td>1</td>\n",
       "      <td>1</td>\n",
       "      <td>0</td>\n",
       "      <td>0</td>\n",
       "    </tr>\n",
       "  </tbody>\n",
       "</table>\n",
       "</div>"
      ],
      "text/plain": [
       "        iLB1027_lipid  iMK_draft17  iTps1432  Lavoie2020\n",
       "items                                                   \n",
       "ATPS4m              1            0         0           0\n",
       "IDP                 1            1         1           1\n",
       "PPAm                1            1         0           0\n",
       "THD1m               1            1         0           0\n",
       "ADK1                1            1         0           0"
      ]
     },
     "execution_count": 17,
     "metadata": {},
     "output_type": "execute_result"
    }
   ],
   "source": [
    "df_all_rxns_mets.head()"
   ]
  },
  {
   "cell_type": "code",
   "execution_count": 18,
   "metadata": {},
   "outputs": [],
   "source": [
    "## TRANSPOSE DATA FOR USING AS INPUT FOR MCA\n",
    "df_all_rxns_mets_T = df_all_rxns_mets.T"
   ]
  },
  {
   "cell_type": "code",
   "execution_count": 19,
   "metadata": {},
   "outputs": [],
   "source": [
    "mca_counts = mca.MCA(df_all_rxns_mets_T)"
   ]
  },
  {
   "cell_type": "code",
   "execution_count": 20,
   "metadata": {},
   "outputs": [
    {
     "name": "stdout",
     "output_type": "stream",
     "text": [
      "[[ 0.02140458  0.22923401  0.08342147]\n",
      " [-0.20937838 -0.01411464 -0.11549067]\n",
      " [ 0.00544148 -0.14918545  0.121888  ]\n",
      " [ 0.55740317 -0.0291288  -0.13641769]]\n"
     ]
    }
   ],
   "source": [
    "print(mca_counts.fs_r(1)) # 1 = 100%, meaning preserve all variance."
   ]
  },
  {
   "cell_type": "code",
   "execution_count": 21,
   "metadata": {},
   "outputs": [
    {
     "name": "stdout",
     "output_type": "stream",
     "text": [
      "[0.05211411 0.01912339 0.01293539]\n"
     ]
    }
   ],
   "source": [
    "#The eigenvalues, or principal inertias, of the factors:\n",
    "print(mca_counts.L)"
   ]
  },
  {
   "cell_type": "code",
   "execution_count": 22,
   "metadata": {},
   "outputs": [
    {
     "name": "stdout",
     "output_type": "stream",
     "text": [
      "0.08417289264260638 0.08417289264260638\n"
     ]
    }
   ],
   "source": [
    " # The inertia is simply the sum of the principle inertias:\n",
    "print(mca_counts.inertia, mca_counts.L.sum())"
   ]
  },
  {
   "cell_type": "code",
   "execution_count": 23,
   "metadata": {},
   "outputs": [
    {
     "name": "stdout",
     "output_type": "stream",
     "text": [
      "Run MCA on selected columns of a pd DataFrame.\n",
      "\t\n",
      "\tIf the column are specified, assume that they hold\n",
      "\tcategorical variables that need to be replaced with\n",
      "\tdummy indicators, otherwise process the DataFrame as is.\n",
      "\n",
      "\t'cols': The columns of the DataFrame to process.\n",
      "\t'ncols': The number of columns before dummy coding. To be passed if cols isn't.\n",
      "\t'benzecri': Perform Benzécri correction (default: True)\n",
      "\t'TOL': value below which to round eigenvalues to zero (default: 1e-4)\n",
      "\t\n"
     ]
    }
   ],
   "source": [
    "# create two MCA instances - one with Benzécri correction enabled (default) and one without it. Parameter ncols denotes number of categorical variables.\n",
    "mca_ben = mca.MCA(df_all_rxns_mets_T)\n",
    "mca_ind = mca.MCA(df_all_rxns_mets_T, benzecri=False)\n",
    "\n",
    "print(mca.MCA.__doc__)"
   ]
  },
  {
   "cell_type": "code",
   "execution_count": 24,
   "metadata": {},
   "outputs": [
    {
     "data": {
      "text/html": [
       "<div>\n",
       "<style scoped>\n",
       "    .dataframe tbody tr th:only-of-type {\n",
       "        vertical-align: middle;\n",
       "    }\n",
       "\n",
       "    .dataframe tbody tr th {\n",
       "        vertical-align: top;\n",
       "    }\n",
       "\n",
       "    .dataframe thead th {\n",
       "        text-align: right;\n",
       "    }\n",
       "</style>\n",
       "<table border=\"1\" class=\"dataframe\">\n",
       "  <thead>\n",
       "    <tr style=\"text-align: right;\">\n",
       "      <th></th>\n",
       "      <th>Iλ</th>\n",
       "      <th>τI</th>\n",
       "      <th>Zλ</th>\n",
       "      <th>τZ</th>\n",
       "      <th>cλ</th>\n",
       "      <th>τc</th>\n",
       "    </tr>\n",
       "    <tr>\n",
       "      <th>Factor</th>\n",
       "      <th></th>\n",
       "      <th></th>\n",
       "      <th></th>\n",
       "      <th></th>\n",
       "      <th></th>\n",
       "      <th></th>\n",
       "    </tr>\n",
       "  </thead>\n",
       "  <tbody>\n",
       "    <tr>\n",
       "      <th>1</th>\n",
       "      <td>0.228363</td>\n",
       "      <td>0.475201</td>\n",
       "      <td>0.052114</td>\n",
       "      <td>0.619132</td>\n",
       "      <td>0.052114</td>\n",
       "      <td>0.618480</td>\n",
       "    </tr>\n",
       "    <tr>\n",
       "      <th>2</th>\n",
       "      <td>0.138375</td>\n",
       "      <td>0.287944</td>\n",
       "      <td>0.019123</td>\n",
       "      <td>0.227192</td>\n",
       "      <td>0.019123</td>\n",
       "      <td>0.226952</td>\n",
       "    </tr>\n",
       "    <tr>\n",
       "      <th>3</th>\n",
       "      <td>0.113824</td>\n",
       "      <td>0.236855</td>\n",
       "      <td>0.012935</td>\n",
       "      <td>0.153676</td>\n",
       "      <td>0.012935</td>\n",
       "      <td>0.153515</td>\n",
       "    </tr>\n",
       "    <tr>\n",
       "      <th>Σ</th>\n",
       "      <td>0.480561</td>\n",
       "      <td>1.000000</td>\n",
       "      <td>0.084173</td>\n",
       "      <td>1.000000</td>\n",
       "      <td>0.084173</td>\n",
       "      <td>0.998947</td>\n",
       "    </tr>\n",
       "  </tbody>\n",
       "</table>\n",
       "</div>"
      ],
      "text/plain": [
       "              Iλ        τI        Zλ        τZ        cλ        τc\n",
       "Factor                                                            \n",
       "1       0.228363  0.475201  0.052114  0.619132  0.052114  0.618480\n",
       "2       0.138375  0.287944  0.019123  0.227192  0.019123  0.226952\n",
       "3       0.113824  0.236855  0.012935  0.153676  0.012935  0.153515\n",
       "Σ       0.480561  1.000000  0.084173  1.000000  0.084173  0.998947"
      ]
     },
     "execution_count": 24,
     "metadata": {},
     "output_type": "execute_result"
    }
   ],
   "source": [
    "#\"Eigenvalues, corrected eigenvalues, proportion of explained inertia and corrected proportion of explained inertia. The eigenvalues of the Burt matrix are equal to the squared eigenvalues of the indicator matrix; The corrected eigenvalues for Benzécri and Greenacre are the same, but the proportion of explained variance differ. Eigenvalues are denoted by λ, proportions of explained inertia by τ (note that the average inertia used to compute Greenacre’s correction is equal to I = .7358).\" (Hedbi & Valentin, 2007)\n",
    "#Field L contains the eigenvalues, or the principal inertias, of the factors. Method expl_var returns proportion of explained inertia for each factor, whereas Greenacre corrections may be enabled with parameter greenacre and N limits number of retained factors.\n",
    "#Note that Burt matrix values are not included in the following table, as it is not currently implemented in mca package.\n",
    "data = {'Iλ': pd.Series(mca_ind.L),\n",
    "        'τI': mca_ind.expl_var(greenacre=False, N=3),\n",
    "        'Zλ': pd.Series(mca_ben.L),\n",
    "        'τZ': mca_ben.expl_var(greenacre=False, N=3),\n",
    "        'cλ': pd.Series(mca_ben.L),\n",
    "        'τc': mca_ind.expl_var(greenacre=True, N=3)}\n",
    "\n",
    "# 'Indicator Matrix', 'Benzecri Correction', 'Greenacre Correction'\n",
    "columns = ['Iλ', 'τI', 'Zλ', 'τZ', 'cλ', 'τc']\n",
    "table2 = pd.DataFrame(data=data, columns=columns).fillna(0)\n",
    "table2.index += 1\n",
    "table2.loc['Σ'] = table2.sum()\n",
    "table2.index.name = 'Factor'\n",
    "\n",
    "table2"
   ]
  },
  {
   "cell_type": "code",
   "execution_count": 25,
   "metadata": {},
   "outputs": [
    {
     "data": {
      "text/plain": [
       "(0.4805614649391135,\n",
       " 0.4805614649391135,\n",
       " 0.08417289264260638,\n",
       " 0.08417289264260638)"
      ]
     },
     "execution_count": 25,
     "metadata": {},
     "output_type": "execute_result"
    }
   ],
   "source": [
    "#The inertia is simply the sum of the principle inertias:\n",
    "mca_ind.inertia, mca_ind.L.sum(), mca_ben.inertia, mca_ben.L.sum()"
   ]
  },
  {
   "cell_type": "code",
   "execution_count": 26,
   "metadata": {},
   "outputs": [
    {
     "data": {
      "text/html": [
       "<div>\n",
       "<style scoped>\n",
       "    .dataframe tbody tr th:only-of-type {\n",
       "        vertical-align: middle;\n",
       "    }\n",
       "\n",
       "    .dataframe tbody tr th {\n",
       "        vertical-align: top;\n",
       "    }\n",
       "\n",
       "    .dataframe thead th {\n",
       "        text-align: right;\n",
       "    }\n",
       "</style>\n",
       "<table border=\"1\" class=\"dataframe\">\n",
       "  <thead>\n",
       "    <tr style=\"text-align: right;\">\n",
       "      <th></th>\n",
       "      <th>cλ</th>\n",
       "      <th>%c</th>\n",
       "    </tr>\n",
       "  </thead>\n",
       "  <tbody>\n",
       "    <tr>\n",
       "      <th>1</th>\n",
       "      <td>0.052114</td>\n",
       "      <td>61.847956</td>\n",
       "    </tr>\n",
       "    <tr>\n",
       "      <th>2</th>\n",
       "      <td>0.019123</td>\n",
       "      <td>22.695242</td>\n",
       "    </tr>\n",
       "  </tbody>\n",
       "</table>\n",
       "</div>"
      ],
      "text/plain": [
       "         cλ         %c\n",
       "1  0.052114  61.847956\n",
       "2  0.019123  22.695242"
      ]
     },
     "execution_count": 26,
     "metadata": {},
     "output_type": "execute_result"
    }
   ],
   "source": [
    "#Firstly, we once again tabulate eigenvalues and their proportions. \n",
    "#This time only for the first two factors and as percentage.\n",
    "data = np.array([mca_ben.L[:2], \n",
    "                 mca_ben.expl_var(greenacre=True, N=2) * 100]).T\n",
    "df = pd.DataFrame(data=data, columns=['cλ','%c'], index=range(1,3))\n",
    "df"
   ]
  },
  {
   "cell_type": "code",
   "execution_count": 27,
   "metadata": {
    "scrolled": true
   },
   "outputs": [
    {
     "data": {
      "text/html": [
       "<div>\n",
       "<style scoped>\n",
       "    .dataframe tbody tr th:only-of-type {\n",
       "        vertical-align: middle;\n",
       "    }\n",
       "\n",
       "    .dataframe tbody tr th {\n",
       "        vertical-align: top;\n",
       "    }\n",
       "\n",
       "    .dataframe thead th {\n",
       "        text-align: right;\n",
       "    }\n",
       "</style>\n",
       "<table border=\"1\" class=\"dataframe\">\n",
       "  <thead>\n",
       "    <tr style=\"text-align: right;\">\n",
       "      <th></th>\n",
       "      <th></th>\n",
       "      <th>iLB1027_lipid</th>\n",
       "      <th>iMK_draft17</th>\n",
       "      <th>iTps1432</th>\n",
       "      <th>Lavoie2020</th>\n",
       "    </tr>\n",
       "  </thead>\n",
       "  <tbody>\n",
       "    <tr>\n",
       "      <th rowspan=\"2\" valign=\"top\">Factor score</th>\n",
       "      <th>1</th>\n",
       "      <td>0.02</td>\n",
       "      <td>-0.21</td>\n",
       "      <td>0.01</td>\n",
       "      <td>0.56</td>\n",
       "    </tr>\n",
       "    <tr>\n",
       "      <th>2</th>\n",
       "      <td>0.23</td>\n",
       "      <td>-0.01</td>\n",
       "      <td>-0.15</td>\n",
       "      <td>-0.03</td>\n",
       "    </tr>\n",
       "    <tr>\n",
       "      <th rowspan=\"2\" valign=\"top\">Squared cosines</th>\n",
       "      <th>1</th>\n",
       "      <td>0.01</td>\n",
       "      <td>0.76</td>\n",
       "      <td>0.00</td>\n",
       "      <td>0.94</td>\n",
       "    </tr>\n",
       "    <tr>\n",
       "      <th>2</th>\n",
       "      <td>0.88</td>\n",
       "      <td>0.00</td>\n",
       "      <td>0.60</td>\n",
       "      <td>0.00</td>\n",
       "    </tr>\n",
       "    <tr>\n",
       "      <th rowspan=\"2\" valign=\"top\">Contributions x 1000</th>\n",
       "      <th>1</th>\n",
       "      <td>2.05</td>\n",
       "      <td>291.81</td>\n",
       "      <td>0.17</td>\n",
       "      <td>705.97</td>\n",
       "    </tr>\n",
       "    <tr>\n",
       "      <th>2</th>\n",
       "      <td>639.83</td>\n",
       "      <td>3.61</td>\n",
       "      <td>351.30</td>\n",
       "      <td>5.25</td>\n",
       "    </tr>\n",
       "  </tbody>\n",
       "</table>\n",
       "</div>"
      ],
      "text/plain": [
       "                        iLB1027_lipid  iMK_draft17  iTps1432  Lavoie2020\n",
       "Factor score         1           0.02        -0.21      0.01        0.56\n",
       "                     2           0.23        -0.01     -0.15       -0.03\n",
       "Squared cosines      1           0.01         0.76      0.00        0.94\n",
       "                     2           0.88         0.00      0.60        0.00\n",
       "Contributions x 1000 1           2.05       291.81      0.17      705.97\n",
       "                     2         639.83         3.61    351.30        5.25"
      ]
     },
     "execution_count": 27,
     "metadata": {},
     "output_type": "execute_result"
    }
   ],
   "source": [
    "fs, cos, cont = 'Factor score','Squared cosines', 'Contributions x 1000'\n",
    "table3 = pd.DataFrame(columns=df_all_rxns_mets_T.index, index=pd.MultiIndex\n",
    "                      .from_product([[fs, cos, cont], range(1, 3)]))\n",
    "\n",
    "table3.loc[fs,    :] = mca_ben.fs_r(N=2).T\n",
    "table3.loc[cos,   :] = mca_ben.cos_r(N=2).T\n",
    "table3.loc[cont,  :] = mca_ben.cont_r(N=2).T * 1000\n",
    "#table3.loc[fs, 'W?'] = mca_ben.fs_r_sup(pd.DataFrame([i_sup]), N=2)[0]\n",
    "\n",
    "np.round(table3.astype(float), 2)"
   ]
  },
  {
   "cell_type": "code",
   "execution_count": 28,
   "metadata": {
    "scrolled": false
   },
   "outputs": [
    {
     "data": {
      "image/png": "[encoded data removed]",
      "text/plain": [
       "<Figure size 460.8x403.2 with 1 Axes>"
      ]
     },
     "metadata": {},
     "output_type": "display_data"
    }
   ],
   "source": [
    "#Projections on the first 2 dimensions.\n",
    "#%matplotlib inline\n",
    "#import matplotlib.pyplot as plt\n",
    "\n",
    "points = table3.loc[fs].values\n",
    "#labels = table3.columns.values\n",
    "labels = ['iLB1027_lipid', 'iMK1961', 'iTps1432', 'iML830']\n",
    "plt.figure()\n",
    "plt.margins(0.1)\n",
    "plt.axhline(0, color='gray')\n",
    "plt.axvline(0, color='gray')\n",
    "plt.xlabel('MCA Component 1 (61.85%)')\n",
    "plt.ylabel('MCA Component 2 (22.70%)')\n",
    "\n",
    "plt.scatter(*points, s=150, marker='o', c='#2c7fb8', alpha=.9, linewidths=1, edgecolor='black')\n",
    "for label, x, y in zip(labels, *points):\n",
    "    plt.annotate(label, xy=(x, y), xytext=(x + .03, y + .03))\n",
    "\n",
    "plt.rcParams['svg.fonttype'] = 'none'\n",
    "#plt.savefig('rxns_mets_mca_18.05.svg')\n",
    "plt.show()"
   ]
  },
  {
   "cell_type": "markdown",
   "metadata": {},
   "source": [
    "# Comparing distribution of rxns among different pathways"
   ]
  },
  {
   "cell_type": "code",
   "execution_count": 124,
   "metadata": {},
   "outputs": [],
   "source": [
    "# LOAD RXN DATA\n",
    "df_rxns_no_comp = pd.read_csv('proceed_all_rxns_no_comp.txt', sep='\\t', index_col=0)"
   ]
  },
  {
   "cell_type": "code",
   "execution_count": 29,
   "metadata": {},
   "outputs": [],
   "source": [
    "# REMOVE THE DATA OF IRC MODEL\n",
    "temp_list = list(df_rxns_no_comp.columns[df_rxns_no_comp.columns.str.contains('_subsystem')])\n",
    "temp_list.remove('iRC1080_subsystem')\n",
    "temp_list.remove('itHaps987_subsystem') \n",
    "df_subs = df_rxns_no_comp[temp_list]"
   ]
  },
  {
   "cell_type": "code",
   "execution_count": 30,
   "metadata": {},
   "outputs": [],
   "source": [
    "# LOAD PATHWAY DICTIONARY\n",
    "df_path = pd.read_csv('pathways_dict.txt', sep='\\t', header=None)\n",
    "df_path.columns = ['subs', 'path']\n",
    "df_path = df_path.drop_duplicates(subset='subs', keep='last').reset_index(drop = True)\n"
   ]
  },
  {
   "cell_type": "code",
   "execution_count": 31,
   "metadata": {},
   "outputs": [],
   "source": [
    "# MAP SUBSYSTEMS TO PATHWAYS\n",
    "temp_list = list(df_subs.columns)\n",
    "df_subs_path = []\n",
    "for i, model in enumerate(temp_list):\n",
    "    temp = df_subs[[model]].rename(columns={model:'subs'})\n",
    "    temp1 = pd.merge(temp, df_path, on='subs', how='left')\n",
    "    temp1 = temp1[temp1.subs.notna()]\n",
    "    temp1['model'] = model\n",
    "    if i==0:\n",
    "        df_subs_path = temp1\n",
    "    else:\n",
    "        df_subs_path = pd.concat([df_subs_path, temp1])\n",
    "    #df_subs_path.append(temp1)\n",
    "df_subs_path.reset_index(drop=True,inplace=True)"
   ]
  },
  {
   "cell_type": "code",
   "execution_count": 32,
   "metadata": {},
   "outputs": [],
   "source": [
    "def refine_path(source, target):    \n",
    "    indx_temp = df_subs_path[df_subs_path.path == source].path.index\n",
    "    df_subs_path.path.iloc[indx_temp] = target\n",
    "    return df_subs_path"
   ]
  },
  {
   "cell_type": "code",
   "execution_count": 33,
   "metadata": {},
   "outputs": [],
   "source": [
    "df_subs_path = refine_path(source='Urea cycle', target='Nitrogen metabolism')\n",
    "df_subs_path = refine_path(source='Glycolysis / Gluconeogenesis', \n",
    "                           target='Carbohydrate metabolism')\n",
    "df_subs_path = refine_path(source='TCA Cycle', \n",
    "                           target='Carbohydrate metabolism')\n",
    "df_subs_path = refine_path(source='Pentose phosphate pathway', \n",
    "                           target='Carbohydrate metabolism')\n",
    "df_subs_path = refine_path(source='Exchange', \n",
    "                           target='Exchange/Transport')\n",
    "df_subs_path = refine_path(source='Transport', \n",
    "                           target='Exchange/Transport')"
   ]
  },
  {
   "cell_type": "code",
   "execution_count": 34,
   "metadata": {},
   "outputs": [],
   "source": [
    "df_subs_path = df_subs_path[(df_subs_path.path != 'Not specified') &\n",
    "(df_subs_path.path !='Biomass') &\n",
    "(df_subs_path.path !='Xenobiotics biodegradation and metabolism')]"
   ]
  },
  {
   "cell_type": "code",
   "execution_count": 35,
   "metadata": {},
   "outputs": [],
   "source": [
    "df_subs_path.sort_values(by='path', axis=0, inplace=True)"
   ]
  },
  {
   "cell_type": "code",
   "execution_count": 36,
   "metadata": {
    "scrolled": true
   },
   "outputs": [],
   "source": [
    "df_subs_path_count = df_subs_path.groupby(['model', 'path']).count().reset_index()"
   ]
  },
  {
   "cell_type": "code",
   "execution_count": 37,
   "metadata": {},
   "outputs": [],
   "source": [
    "# TO CHANGE THE ORDER OF PATHWAYS AND KEEP CONSISTENT FOR EACH MODEL\n",
    "temp_iMK1 = df_subs_path_count[df_subs_path_count.model=='iMK_draft17_subsystem'].reset_index(drop=True)\n",
    "temp_iMK = df_subs_path_count[df_subs_path_count.model=='iMK_draft17_subsystem'].sort_values(by='subs',\n",
    "                                                        ascending=False).reset_index(drop=True)\n",
    "\n",
    "temp_iTps = df_subs_path_count[df_subs_path_count.model=='iTps1432_subsystem'].reset_index(drop=True)\n",
    "temp_iTps['temp_imk'] = temp_iMK1.subs\n",
    "temp_iTps = temp_iTps.sort_values(by='temp_imk', ascending=False)\n",
    "\n",
    "temp_iLB = df_subs_path_count[df_subs_path_count.model=='iLB1027_lipid_subsystem'].reset_index(drop=True)\n",
    "temp_iLB['temp_imk'] = temp_iMK1.subs\n",
    "temp_iLB = temp_iLB.sort_values(by='temp_imk', ascending=False)\n",
    "\n",
    "temp_iML = df_subs_path_count[df_subs_path_count.model=='Lavoie2020_subsystem'].reset_index(drop=True)\n",
    "temp_iML['temp_imk'] = temp_iMK1.subs\n",
    "temp_iML = temp_iML.sort_values(by='temp_imk', ascending=False)"
   ]
  },
  {
   "cell_type": "code",
   "execution_count": 38,
   "metadata": {},
   "outputs": [
    {
     "data": {
      "text/html": [
       "<div>\n",
       "<style scoped>\n",
       "    .dataframe tbody tr th:only-of-type {\n",
       "        vertical-align: middle;\n",
       "    }\n",
       "\n",
       "    .dataframe tbody tr th {\n",
       "        vertical-align: top;\n",
       "    }\n",
       "\n",
       "    .dataframe thead th {\n",
       "        text-align: right;\n",
       "    }\n",
       "</style>\n",
       "<table border=\"1\" class=\"dataframe\">\n",
       "  <thead>\n",
       "    <tr style=\"text-align: right;\">\n",
       "      <th></th>\n",
       "      <th>model</th>\n",
       "      <th>path</th>\n",
       "      <th>subs</th>\n",
       "    </tr>\n",
       "  </thead>\n",
       "  <tbody>\n",
       "    <tr>\n",
       "      <th>0</th>\n",
       "      <td>iMK_draft17_subsystem</td>\n",
       "      <td>Lipid metabolism</td>\n",
       "      <td>4577</td>\n",
       "    </tr>\n",
       "    <tr>\n",
       "      <th>1</th>\n",
       "      <td>iMK_draft17_subsystem</td>\n",
       "      <td>Exchange/Transport</td>\n",
       "      <td>742</td>\n",
       "    </tr>\n",
       "    <tr>\n",
       "      <th>2</th>\n",
       "      <td>iMK_draft17_subsystem</td>\n",
       "      <td>Amino acid metabolism</td>\n",
       "      <td>436</td>\n",
       "    </tr>\n",
       "    <tr>\n",
       "      <th>3</th>\n",
       "      <td>iMK_draft17_subsystem</td>\n",
       "      <td>Carbohydrate metabolism</td>\n",
       "      <td>312</td>\n",
       "    </tr>\n",
       "    <tr>\n",
       "      <th>4</th>\n",
       "      <td>iMK_draft17_subsystem</td>\n",
       "      <td>Nucleotide metabolism</td>\n",
       "      <td>204</td>\n",
       "    </tr>\n",
       "    <tr>\n",
       "      <th>5</th>\n",
       "      <td>iMK_draft17_subsystem</td>\n",
       "      <td>Metabolism of cofactors and vitamins</td>\n",
       "      <td>202</td>\n",
       "    </tr>\n",
       "    <tr>\n",
       "      <th>6</th>\n",
       "      <td>iMK_draft17_subsystem</td>\n",
       "      <td>Energy metabolism</td>\n",
       "      <td>103</td>\n",
       "    </tr>\n",
       "    <tr>\n",
       "      <th>7</th>\n",
       "      <td>iMK_draft17_subsystem</td>\n",
       "      <td>Metabolism of terpenoids and polyketides</td>\n",
       "      <td>28</td>\n",
       "    </tr>\n",
       "    <tr>\n",
       "      <th>8</th>\n",
       "      <td>iMK_draft17_subsystem</td>\n",
       "      <td>Glycan biosynthesis and metabolism</td>\n",
       "      <td>23</td>\n",
       "    </tr>\n",
       "    <tr>\n",
       "      <th>9</th>\n",
       "      <td>iMK_draft17_subsystem</td>\n",
       "      <td>Nitrogen metabolism</td>\n",
       "      <td>15</td>\n",
       "    </tr>\n",
       "  </tbody>\n",
       "</table>\n",
       "</div>"
      ],
      "text/plain": [
       "                   model                                      path  subs\n",
       "0  iMK_draft17_subsystem                          Lipid metabolism  4577\n",
       "1  iMK_draft17_subsystem                        Exchange/Transport   742\n",
       "2  iMK_draft17_subsystem                     Amino acid metabolism   436\n",
       "3  iMK_draft17_subsystem                   Carbohydrate metabolism   312\n",
       "4  iMK_draft17_subsystem                     Nucleotide metabolism   204\n",
       "5  iMK_draft17_subsystem      Metabolism of cofactors and vitamins   202\n",
       "6  iMK_draft17_subsystem                         Energy metabolism   103\n",
       "7  iMK_draft17_subsystem  Metabolism of terpenoids and polyketides    28\n",
       "8  iMK_draft17_subsystem        Glycan biosynthesis and metabolism    23\n",
       "9  iMK_draft17_subsystem                       Nitrogen metabolism    15"
      ]
     },
     "execution_count": 38,
     "metadata": {},
     "output_type": "execute_result"
    }
   ],
   "source": [
    "temp_iMK.head(20)"
   ]
  },
  {
   "cell_type": "code",
   "execution_count": 39,
   "metadata": {},
   "outputs": [
    {
     "name": "stderr",
     "output_type": "stream",
     "text": [
      "/home/manish/anaconda2/envs/rstudio/lib/python3.7/site-packages/brokenaxes.py:294: UserWarning: FixedFormatter should only be used together with FixedLocator\n",
      "  result.append(getattr(ax, method)(*args, **kwargs))\n"
     ]
    },
    {
     "data": {
      "image/png": "[encoded data removed]",
      "text/plain": [
       "<Figure size 460.8x403.2 with 4 Axes>"
      ]
     },
     "metadata": {},
     "output_type": "display_data"
    }
   ],
   "source": [
    "\n",
    "width = 0.2       # the width of the bars: can also be len(x) sequence\n",
    "items = list(temp_iMK.path)\n",
    "values_iMK = list(temp_iMK.subs)\n",
    "values_iTps = list(temp_iTps.subs)\n",
    "values_iLB = list(temp_iLB.subs)\n",
    "values_iML = list(temp_iML.subs)\n",
    "\n",
    "#print(values)\n",
    "#change_values = [459, 316, 104]\n",
    "#fig, ax = plt.subplots(figsize=(10,6))\n",
    "\n",
    "#['#ca0020','#f4a582','#bababa','#404040']\n",
    "x = np.arange(len(items))  # the label locations\n",
    "\n",
    "ax = brokenaxes(xlims=((0, 1050), (3200, 3450), (4500, 4600)), \n",
    "                 #hspace=.05,\n",
    "                 wspace=0.05\n",
    "                )\n",
    "ax.barh(x-width, values_iMK, width, label='iMK1806', color= '#ca0020')\n",
    "ax.barh(x, values_iTps, width, label='iTps1432', color= '#f4a582')\n",
    "ax.barh(x+width, values_iLB, width, label='iLB1027_lipid', color= '#bababa')\n",
    "ax.barh(x+width*2, values_iML, width, label='iML830', color= '#404040')\n",
    "#ax.barh(items, change_values, width, left=old_values,\n",
    "           #label='Newly added', color= '#08519c')\n",
    "\n",
    "ax.set_xlabel('Count')\n",
    "ax.set_ylabel('Diatom models')\n",
    "#ax.set_title('Comparison based on metabolites')\n",
    "ax.legend(loc= 'lower right')\n",
    "\n",
    "ax.set_yticks(np.arange(len(items)))\n",
    "ax.set_yticklabels(items)\n",
    "ax.invert_yaxis()\n",
    "#plt.yticks(np.arange(len(items)),items)\n",
    "    \n",
    "plt.xticks(rotation=90)\n",
    "ax.set_yticklabels([''])\n",
    "#plt.figure(figsize=(2,2))\n",
    "plt.rcParams['svg.fonttype'] = 'none'\n",
    "#plt.savefig('pathways_bar_18.05.svg')\n",
    "plt.show()"
   ]
  },
  {
   "cell_type": "markdown",
   "metadata": {},
   "source": [
    "# Size of four diatom genomes "
   ]
  },
  {
   "cell_type": "code",
   "execution_count": 147,
   "metadata": {},
   "outputs": [
    {
     "data": {
      "image/png": "[encoded data removed]",
      "text/plain": [
       "<Figure size 288x144 with 1 Axes>"
      ]
     },
     "metadata": {},
     "output_type": "display_data"
    }
   ],
   "source": [
    "# PLOT GENOME SIZE OF DIATOMS\n",
    "genome_size = [75.1, 61.1, 34.5, 27.4]\n",
    "genome = ['Cylindrotheca closterium', 'Fragilariopsis cylindrus', 'Thalassiosira pseudonana',\n",
    "         'Phaeodactylum tricornutum']\n",
    "width=0.35\n",
    "#df_mets_num=pd.DataFrame(genome_size, columns=['genome_size'])\n",
    "#df_mets_num['genome'] = genome\n",
    "#df_mets_num.sort_values(by='genome_size', inplace=True)\n",
    "fig, ax = plt.subplots(figsize=(4,2))\n",
    "ax.barh(genome,genome_size,width, color='#2c7fb8')\n",
    "#sns.barplot(y='genome', x='genome_size', data=df_mets_num, color='#2c7fb8')\n",
    "ax.invert_yaxis()\n",
    "plt.xlabel('Genome size (Mbp)')\n",
    "plt.ylabel('Diatom genomes')\n",
    "plt.xticks(rotation=90)\n",
    "    #, color='#fc8d62'\n",
    "plt.rcParams['svg.fonttype'] = 'none'\n",
    "#plt.savefig('genome_size_comparison.svg')"
   ]
  },
  {
   "cell_type": "code",
   "execution_count": null,
   "metadata": {},
   "outputs": [],
   "source": []
  }
 ],
 "metadata": {
  "kernelspec": {
   "display_name": "Python 3",
   "language": "python",
   "name": "python3"
  },
  "language_info": {
   "codemirror_mode": {
    "name": "ipython",
    "version": 3
   },
   "file_extension": ".py",
   "mimetype": "text/x-python",
   "name": "python",
   "nbconvert_exporter": "python",
   "pygments_lexer": "ipython3",
   "version": "3.7.11"
  },
  "toc": {
   "base_numbering": 1,
   "nav_menu": {},
   "number_sections": true,
   "sideBar": true,
   "skip_h1_title": false,
   "title_cell": "Table of Contents",
   "title_sidebar": "Contents",
   "toc_cell": true,
   "toc_position": {
    "height": "calc(100% - 180px)",
    "left": "10px",
    "top": "150px",
    "width": "296.463px"
   },
   "toc_section_display": true,
   "toc_window_display": true
  }
 },
 "nbformat": 4,
 "nbformat_minor": 4
}
