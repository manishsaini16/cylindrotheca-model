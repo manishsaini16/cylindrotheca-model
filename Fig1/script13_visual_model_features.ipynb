{
 "cells": [
  {
   "cell_type": "markdown",
   "metadata": {
    "toc": true
   },
   "source": [
    "<h1>Table of Contents<span class=\"tocSkip\"></span></h1>\n",
    "<div class=\"toc\"><ul class=\"toc-item\"><li><span><a href=\"#Functions\" data-toc-modified-id=\"Functions-1\"><span class=\"toc-item-num\">1&nbsp;&nbsp;</span>Functions</a></span></li><li><span><a href=\"#Model-features\" data-toc-modified-id=\"Model-features-2\"><span class=\"toc-item-num\">2&nbsp;&nbsp;</span>Model features</a></span><ul class=\"toc-item\"><li><ul class=\"toc-item\"><li><span><a href=\"#main-features\" data-toc-modified-id=\"main-features-2.0.1\"><span class=\"toc-item-num\">2.0.1&nbsp;&nbsp;</span>main features</a></span></li></ul></li><li><span><a href=\"#Genes-and-non-genes-associated-reactions\" data-toc-modified-id=\"Genes-and-non-genes-associated-reactions-2.1\"><span class=\"toc-item-num\">2.1&nbsp;&nbsp;</span>Genes and non-genes associated reactions</a></span><ul class=\"toc-item\"><li><span><a href=\"#Distribution-of-rxns-among-different-pathways\" data-toc-modified-id=\"Distribution-of-rxns-among-different-pathways-2.1.1\"><span class=\"toc-item-num\">2.1.1&nbsp;&nbsp;</span>Distribution of rxns among different pathways</a></span></li><li><span><a href=\"#Distribution-of-rxns-among-different-compartments\" data-toc-modified-id=\"Distribution-of-rxns-among-different-compartments-2.1.2\"><span class=\"toc-item-num\">2.1.2&nbsp;&nbsp;</span>Distribution of rxns among different compartments</a></span></li></ul></li></ul></li></ul></div>"
   ]
  },
  {
   "cell_type": "code",
   "execution_count": 2,
   "metadata": {},
   "outputs": [],
   "source": [
    "#%matplotlib inline\n",
    "import pandas as pd\n",
    "import numpy as np\n",
    "import xlrd\n",
    "import seaborn as sns\n",
    "import matplotlib.pyplot as plt\n",
    "import matplotlib.patches as mpatches\n",
    "from functools import reduce\n",
    "import glob\n",
    "import os\n",
    "import cobra\n",
    "import re\n",
    "from jupyterthemes import jtplot\n",
    "from tqdm import tqdm\n",
    "from brokenaxes import brokenaxes\n",
    "#import mca\n",
    "pd.options.mode.chained_assignment = None\n",
    "jtplot.style(theme='grade3', grid=False)"
   ]
  },
  {
   "cell_type": "markdown",
   "metadata": {},
   "source": [
    "# Functions"
   ]
  },
  {
   "cell_type": "code",
   "execution_count": 3,
   "metadata": {
    "code_folding": [
     1
    ]
   },
   "outputs": [],
   "source": [
    "# FUNCTION compare rxns, mets, and genes of two models\n",
    "def compare_two_models(model1, model2):\n",
    "    df_rxns_m1=get_rxns_stat_from_model(model1)\n",
    "    df_rxns_m2=get_rxns_stat_from_model(model2)\n",
    "    #compare rxns\n",
    "    df_rxns_m1_temp = df_rxns_m1.drop_duplicates(subset='rxns', \n",
    "                                                 keep='first').reset_index(drop=True)\n",
    "    df_rxns_m1_temp['status_model1'] = 'present'\n",
    "    df_rxns_m1_temp= df_rxns_m1_temp[['rxns', 'status_model1']]\n",
    "    df_rxns_m1_temp.rxns =df_rxns_m1_temp.rxns.astype('str')\n",
    "    df_rxns_m2_temp = df_rxns_m2.drop_duplicates(subset='rxns', \n",
    "                                                 keep='first').reset_index(drop=True)\n",
    "    df_rxns_m2_temp['status_model2'] = 'present'\n",
    "    df_rxns_m2_temp= df_rxns_m2_temp[['rxns', 'status_model2']]\n",
    "    df_rxns_m2_temp.rxns =df_rxns_m2_temp.rxns.astype('str')\n",
    "    df_rxns_compare = pd.merge(df_rxns_m1_temp, df_rxns_m2_temp, on='rxns', how='outer')\n",
    "    df_rxns_compare=df_rxns_compare[df_rxns_compare.status_model1.isna() | \n",
    "                    df_rxns_compare.status_model2.isna()].reset_index(drop=True)\n",
    "    #print(df_rxns_compare.to_string())\n",
    "    #compare mets\n",
    "    df_rxns_m1_temp = df_rxns_m1.drop_duplicates(subset='mets', \n",
    "                                                 keep='first').reset_index(drop=True)\n",
    "    df_rxns_m1_temp['status_model1'] = 'present'\n",
    "    df_rxns_m1_temp= df_rxns_m1_temp[['mets', 'status_model1']]\n",
    "    df_rxns_m1_temp.mets =df_rxns_m1_temp.mets.astype('str')\n",
    "    df_rxns_m2_temp = df_rxns_m2.drop_duplicates(subset='mets', \n",
    "                                                 keep='first').reset_index(drop=True)\n",
    "    df_rxns_m2_temp['status_model2'] = 'present'\n",
    "    df_rxns_m2_temp= df_rxns_m2_temp[['mets', 'status_model2']]\n",
    "    df_rxns_m2_temp.mets =df_rxns_m2_temp.mets.astype('str')\n",
    "    df_mets_compare = pd.merge(df_rxns_m1_temp, df_rxns_m2_temp, on='mets', how='outer')\n",
    "    df_mets_compare=df_mets_compare[df_mets_compare.status_model1.isna() | \n",
    "                    df_mets_compare.status_model2.isna()].reset_index(drop=True)\n",
    "    #compare genes\n",
    "    df_genes_m1 =get_only_genes_stat_from_model(model1)\n",
    "    df_genes_m2 =get_only_genes_stat_from_model(model2)\n",
    "    df_genes_m1_temp = df_genes_m1.drop_duplicates(subset='genes', \n",
    "                                                 keep='first').reset_index(drop=True)\n",
    "    df_genes_m1_temp['status_model1'] = 'present'\n",
    "    df_genes_m1_temp= df_genes_m1_temp[['genes', 'status_model1']]\n",
    "    df_genes_m1_temp.genes =df_genes_m1_temp.genes.astype('str')\n",
    "    df_genes_m2_temp = df_genes_m2.drop_duplicates(subset='genes', \n",
    "                                                 keep='first').reset_index(drop=True)\n",
    "    df_genes_m2_temp['status_model2'] = 'present'\n",
    "    df_genes_m2_temp= df_genes_m2_temp[['genes', 'status_model2']]\n",
    "    df_genes_m2_temp.genes =df_genes_m2_temp.genes.astype('str')\n",
    "    df_genes_compare = pd.merge(df_genes_m1_temp, df_genes_m2_temp, on='genes', how='outer')\n",
    "    df_genes_compare=df_genes_compare[df_genes_compare.status_model1.isna() | \n",
    "                    df_genes_compare.status_model2.isna()].reset_index(drop=True)\n",
    "    #print(df_mets_compare.to_string())\n",
    "    \n",
    "    return df_rxns_compare, df_mets_compare, df_genes_compare"
   ]
  },
  {
   "cell_type": "code",
   "execution_count": 4,
   "metadata": {
    "code_folding": [
     1
    ]
   },
   "outputs": [],
   "source": [
    "# FUNCTION get reactions and associated metabolites and gene reaction rules\n",
    "def get_rxns_stat_from_model(model):    \n",
    "    rxns=[]\n",
    "    for i, rxn in enumerate(model.reactions):\n",
    "        for j, met in enumerate(rxn.metabolites):\n",
    "            rxns.append((rxn.id, met.id, rxn.gene_reaction_rule))\n",
    "    df_rxns=pd.DataFrame(rxns, columns=['rxns', 'mets', 'gr'])\n",
    "    return df_rxns"
   ]
  },
  {
   "cell_type": "code",
   "execution_count": 5,
   "metadata": {
    "code_folding": [
     2
    ]
   },
   "outputs": [],
   "source": [
    "# FUNCTION get reactions and associated gpr, equation, subsystems and compartments\n",
    "# NO METABOLITES\n",
    "def get_only_rxns_stat_from_model(model):    \n",
    "    rxns=[]\n",
    "    for i, rxn in enumerate(model.reactions):\n",
    "        rxns.append((rxn.id, rxn.name, rxn.gene_reaction_rule, rxn.reaction, rxn.subsystem, rxn.compartments))\n",
    "    df_rxns=pd.DataFrame(rxns, columns=['rxns', 'rxn_name', 'gr', 'equation', 'subs', 'comp'])\n",
    "    return df_rxns"
   ]
  },
  {
   "cell_type": "code",
   "execution_count": 6,
   "metadata": {
    "code_folding": [
     1
    ]
   },
   "outputs": [],
   "source": [
    "# FUNCTION get metabolites and their names\n",
    "def get_only_mets_stat_from_model(model):    \n",
    "    mets=[]\n",
    "    for i, met in enumerate(model.metabolites):\n",
    "        mets.append((met.id, met.name, met.formula, met.compartment))\n",
    "    df_mets=pd.DataFrame(mets, columns=['mets', 'met_name', 'met_formula', 'met_conpartment'])\n",
    "    return df_mets"
   ]
  },
  {
   "cell_type": "code",
   "execution_count": 7,
   "metadata": {
    "code_folding": [
     1
    ]
   },
   "outputs": [],
   "source": [
    "# extract only genes\n",
    "def get_only_genes_stat_from_model(model):\n",
    "    genes = []\n",
    "    for i, gene in enumerate(model.genes):\n",
    "        genes.append(gene.id)\n",
    "    df_genes = pd.DataFrame(genes, columns=['genes'])\n",
    "    return df_genes"
   ]
  },
  {
   "cell_type": "markdown",
   "metadata": {},
   "source": [
    "# Model features"
   ]
  },
  {
   "cell_type": "code",
   "execution_count": 8,
   "metadata": {},
   "outputs": [],
   "source": [
    "# load model\n",
    "model = cobra.io.load_json_model('iMK1961.json')"
   ]
  },
  {
   "cell_type": "markdown",
   "metadata": {},
   "source": [
    "### main features"
   ]
  },
  {
   "cell_type": "code",
   "execution_count": 10,
   "metadata": {
    "code_folding": [],
    "scrolled": true
   },
   "outputs": [
    {
     "data": {
      "image/png": "[encoded data removed]",
      "text/plain": [
       "<Figure size 50.4x144 with 1 Axes>"
      ]
     },
     "metadata": {},
     "output_type": "display_data"
    }
   ],
   "source": [
    "# plot main features\n",
    "width = 0.35     \n",
    "    \n",
    "items = ['Genes', 'Metabolites', 'Reactions']\n",
    "values = [len(model.genes),\n",
    "            len(model.metabolites),\n",
    "            len(model.reactions)]\n",
    "fig, ax = plt.subplots(figsize=(.7,2))\n",
    "ax.bar(items, values, width, \n",
    "       color= ['#2c7fb8'])\n",
    "ax.set_xlabel('Model features')\n",
    "ax.set_ylabel('Count')\n",
    "plt.xticks(rotation=60, ha='right')\n",
    "plt.rcParams['svg.fonttype'] = 'none'\n",
    "#plt.savefig('model_main_features.svg')\n",
    "plt.show()"
   ]
  },
  {
   "cell_type": "markdown",
   "metadata": {},
   "source": [
    "## Genes and non-genes associated reactions"
   ]
  },
  {
   "cell_type": "code",
   "execution_count": 11,
   "metadata": {},
   "outputs": [],
   "source": [
    "rxns = []\n",
    "for i, rxn in enumerate(model.reactions):\n",
    "    rxns.append((rxn.id, rxn.gene_reaction_rule))\n",
    "df_rxns = pd.DataFrame(rxns, columns=['rxn', 'gpr'])\n",
    "rxn_no_gene = len(df_rxns[df_rxns.gpr ==''])\n",
    "rxn_gene =len(model.reactions) - len(df_rxns[df_rxns.gpr ==''])"
   ]
  },
  {
   "cell_type": "code",
   "execution_count": 13,
   "metadata": {
    "code_folding": [],
    "scrolled": false
   },
   "outputs": [
    {
     "data": {
      "text/plain": [
       "<matplotlib.legend.Legend at 0x7f68a0ea79d0>"
      ]
     },
     "execution_count": 13,
     "metadata": {},
     "output_type": "execute_result"
    },
    {
     "data": {
      "image/png": "[encoded data removed]",
      "text/plain": [
       "<Figure size 360x288 with 1 Axes>"
      ]
     },
     "metadata": {},
     "output_type": "display_data"
    }
   ],
   "source": [
    "# plot gene and non-gene associated rxns (Pie chart)\n",
    "plt.figure(figsize=(5,4))\n",
    "values = [rxn_gene, rxn_no_gene]\n",
    "items = ['Gene associated reactions', 'Non-gene associated reactions']\n",
    "my_circle=plt.Circle( (0,0), 0.7, color='white')\n",
    "plt.pie(values, \n",
    "        wedgeprops = { 'linewidth' : 2, 'edgecolor' : 'white' }, colors=['#2c7fb8','#c6dbef'])\n",
    "p=plt.gcf()\n",
    "p.gca().add_artist(my_circle)\n",
    "plt.axis('equal')\n",
    "plt.legend(items, loc='best', bbox_to_anchor=(0.87, 0, 0.5, 1))\n",
    "#plt.savefig('rxns_genes_nongenes_pie.svg')"
   ]
  },
  {
   "cell_type": "markdown",
   "metadata": {},
   "source": [
    "### Distribution of rxns among different pathways"
   ]
  },
  {
   "cell_type": "code",
   "execution_count": 22,
   "metadata": {},
   "outputs": [],
   "source": [
    "rxns = []\n",
    "for i, rxn in enumerate(model.reactions):\n",
    "    rxns.append((rxn.id, rxn.gene_reaction_rule, rxn.subsystem, rxn.compartments))\n",
    "df_rxns = pd.DataFrame(rxns, columns=['rxn', 'gpr', 'subs', 'comp'])\n",
    "\n",
    "ind_temp =list(df_rxns[(df_rxns.subs =='') &\n",
    "        (df_rxns.rxn.str.contains('EX_|DM_'))].index)\n",
    "df_rxns.subs.iloc[ind_temp] = 'Extracellular exchange'\n",
    "\n",
    "# LOAD PATHWAY DICTIONARY\n",
    "pathw_path = 'pathways_manual.txt'\n",
    "df_path = pd.read_csv(pathw_path, sep='\\t', header=None)\n",
    "df_path.columns = ['subs', 'temp', 'path']\n",
    "df_path =df_path.drop(labels='temp', axis=1)\n",
    "\n",
    "df_subs_path = pd.merge(df_rxns, df_path, on='subs', how='left')\n",
    "\n",
    "def refine_path(source, target):    \n",
    "    indx_temp = df_subs_path[df_subs_path.path == source].path.index\n",
    "    df_subs_path.path.iloc[indx_temp] = target\n",
    "    return df_subs_path\n",
    "\n",
    "df_subs_path = refine_path('Biomass', 'Not specified')\n",
    "df_subs_path = refine_path('Not specified' , 'Unassigned')\n",
    "\n",
    "df_path_counts_all = df_subs_path.path.value_counts().to_frame().reset_index()\n",
    "df_path_counts_all = df_path_counts_all.rename(columns={'index':'path_name'})\n",
    "\n",
    "df_path_counts_gene = df_subs_path[df_subs_path.gpr != ''].path.value_counts().to_frame().reset_index()\n",
    "\n",
    "df_path_counts_nogene = df_subs_path[df_subs_path.gpr == ''].path.value_counts().to_frame().reset_index()\n",
    "\n",
    "df_path_counts = pd.merge(df_path_counts_gene, df_path_counts_nogene, on='index', \n",
    "                 how='left', suffixes=('_gene', '_nogene')).fillna(0.0)\n",
    "\n",
    "df_path_counts = df_path_counts.rename(columns={'index':'path_name'})\n",
    "\n",
    "df_path_counts = pd.merge(df_path_counts_all, df_path_counts, on='path_name', how='left')"
   ]
  },
  {
   "cell_type": "code",
   "execution_count": 23,
   "metadata": {
    "scrolled": false
   },
   "outputs": [
    {
     "data": {
      "text/html": [
       "<div>\n",
       "<style scoped>\n",
       "    .dataframe tbody tr th:only-of-type {\n",
       "        vertical-align: middle;\n",
       "    }\n",
       "\n",
       "    .dataframe tbody tr th {\n",
       "        vertical-align: top;\n",
       "    }\n",
       "\n",
       "    .dataframe thead th {\n",
       "        text-align: right;\n",
       "    }\n",
       "</style>\n",
       "<table border=\"1\" class=\"dataframe\">\n",
       "  <thead>\n",
       "    <tr style=\"text-align: right;\">\n",
       "      <th></th>\n",
       "      <th>path_name</th>\n",
       "      <th>path</th>\n",
       "      <th>path_gene</th>\n",
       "      <th>path_nogene</th>\n",
       "    </tr>\n",
       "  </thead>\n",
       "  <tbody>\n",
       "    <tr>\n",
       "      <th>0</th>\n",
       "      <td>Lipid metabolism</td>\n",
       "      <td>6346</td>\n",
       "      <td>6306</td>\n",
       "      <td>40.0</td>\n",
       "    </tr>\n",
       "    <tr>\n",
       "      <th>1</th>\n",
       "      <td>Transport</td>\n",
       "      <td>801</td>\n",
       "      <td>292</td>\n",
       "      <td>509.0</td>\n",
       "    </tr>\n",
       "    <tr>\n",
       "      <th>2</th>\n",
       "      <td>Amino acid metabolism</td>\n",
       "      <td>513</td>\n",
       "      <td>495</td>\n",
       "      <td>18.0</td>\n",
       "    </tr>\n",
       "    <tr>\n",
       "      <th>3</th>\n",
       "      <td>Exchange</td>\n",
       "      <td>485</td>\n",
       "      <td>45</td>\n",
       "      <td>440.0</td>\n",
       "    </tr>\n",
       "    <tr>\n",
       "      <th>4</th>\n",
       "      <td>Carbohydrate metabolism</td>\n",
       "      <td>373</td>\n",
       "      <td>358</td>\n",
       "      <td>15.0</td>\n",
       "    </tr>\n",
       "    <tr>\n",
       "      <th>5</th>\n",
       "      <td>Nucleotide metabolism</td>\n",
       "      <td>312</td>\n",
       "      <td>296</td>\n",
       "      <td>16.0</td>\n",
       "    </tr>\n",
       "    <tr>\n",
       "      <th>6</th>\n",
       "      <td>Metabolism of cofactors and vitamins</td>\n",
       "      <td>241</td>\n",
       "      <td>239</td>\n",
       "      <td>2.0</td>\n",
       "    </tr>\n",
       "    <tr>\n",
       "      <th>7</th>\n",
       "      <td>Energy metabolism</td>\n",
       "      <td>150</td>\n",
       "      <td>130</td>\n",
       "      <td>20.0</td>\n",
       "    </tr>\n",
       "    <tr>\n",
       "      <th>8</th>\n",
       "      <td>Metabolism of terpenoids and polyketides</td>\n",
       "      <td>56</td>\n",
       "      <td>56</td>\n",
       "      <td>0.0</td>\n",
       "    </tr>\n",
       "    <tr>\n",
       "      <th>9</th>\n",
       "      <td>Unassigned</td>\n",
       "      <td>44</td>\n",
       "      <td>37</td>\n",
       "      <td>7.0</td>\n",
       "    </tr>\n",
       "    <tr>\n",
       "      <th>10</th>\n",
       "      <td>Glycolysis / Gluconeogenesis</td>\n",
       "      <td>41</td>\n",
       "      <td>41</td>\n",
       "      <td>0.0</td>\n",
       "    </tr>\n",
       "    <tr>\n",
       "      <th>11</th>\n",
       "      <td>TCA Cycle</td>\n",
       "      <td>37</td>\n",
       "      <td>36</td>\n",
       "      <td>1.0</td>\n",
       "    </tr>\n",
       "    <tr>\n",
       "      <th>12</th>\n",
       "      <td>Pentose phosphate pathway</td>\n",
       "      <td>34</td>\n",
       "      <td>34</td>\n",
       "      <td>0.0</td>\n",
       "    </tr>\n",
       "    <tr>\n",
       "      <th>13</th>\n",
       "      <td>Glycan biosynthesis and metabolism</td>\n",
       "      <td>23</td>\n",
       "      <td>23</td>\n",
       "      <td>0.0</td>\n",
       "    </tr>\n",
       "    <tr>\n",
       "      <th>14</th>\n",
       "      <td>Nitrogen metabolism</td>\n",
       "      <td>15</td>\n",
       "      <td>15</td>\n",
       "      <td>0.0</td>\n",
       "    </tr>\n",
       "    <tr>\n",
       "      <th>15</th>\n",
       "      <td>Urea cycle</td>\n",
       "      <td>12</td>\n",
       "      <td>12</td>\n",
       "      <td>0.0</td>\n",
       "    </tr>\n",
       "    <tr>\n",
       "      <th>16</th>\n",
       "      <td>Xenobiotics biodegradation and metabolism</td>\n",
       "      <td>9</td>\n",
       "      <td>9</td>\n",
       "      <td>0.0</td>\n",
       "    </tr>\n",
       "  </tbody>\n",
       "</table>\n",
       "</div>"
      ],
      "text/plain": [
       "                                    path_name  path  path_gene  path_nogene\n",
       "0                            Lipid metabolism  6346       6306         40.0\n",
       "1                                   Transport   801        292        509.0\n",
       "2                       Amino acid metabolism   513        495         18.0\n",
       "3                                    Exchange   485         45        440.0\n",
       "4                     Carbohydrate metabolism   373        358         15.0\n",
       "5                       Nucleotide metabolism   312        296         16.0\n",
       "6        Metabolism of cofactors and vitamins   241        239          2.0\n",
       "7                           Energy metabolism   150        130         20.0\n",
       "8    Metabolism of terpenoids and polyketides    56         56          0.0\n",
       "9                                  Unassigned    44         37          7.0\n",
       "10               Glycolysis / Gluconeogenesis    41         41          0.0\n",
       "11                                  TCA Cycle    37         36          1.0\n",
       "12                  Pentose phosphate pathway    34         34          0.0\n",
       "13         Glycan biosynthesis and metabolism    23         23          0.0\n",
       "14                        Nitrogen metabolism    15         15          0.0\n",
       "15                                 Urea cycle    12         12          0.0\n",
       "16  Xenobiotics biodegradation and metabolism     9          9          0.0"
      ]
     },
     "execution_count": 23,
     "metadata": {},
     "output_type": "execute_result"
    }
   ],
   "source": [
    "df_path_counts"
   ]
  },
  {
   "cell_type": "code",
   "execution_count": 24,
   "metadata": {
    "scrolled": false
   },
   "outputs": [
    {
     "name": "stderr",
     "output_type": "stream",
     "text": [
      "/home/manish/anaconda2/envs/rstudio/lib/python3.7/site-packages/brokenaxes.py:294 \u001b[1;31mUserWarning\u001b[0m: FixedFormatter should only be used together with FixedLocator\n"
     ]
    },
    {
     "data": {
      "image/png": "[encoded data removed]",
      "text/plain": [
       "<Figure size 648x504 with 3 Axes>"
      ]
     },
     "metadata": {},
     "output_type": "display_data"
    }
   ],
   "source": [
    "labels = list(df_path_counts.path_name)\n",
    "path_gene = list(df_path_counts.path_gene)\n",
    "path_nogene = list(df_path_counts.path_nogene)\n",
    "plt.figure(figsize=(9,7))\n",
    "width = 0.35       # the width of the bars: can also be len(x) sequence\n",
    "bax = brokenaxes(xlims=((0, 500), (4500, 4600)), \n",
    "                 wspace=0.05\n",
    "                 )\n",
    "bax.barh(labels, path_gene, width, label='Gene associated reactions', color='#2c7fb8')\n",
    "bax.barh(labels, path_nogene, width, left=path_gene,\n",
    "       label='Non-gene associated reactions',color ='#c6dbef')\n",
    "bax.set_yticks(np.arange(len(labels)))\n",
    "#bax.set_yticklabels(labels)\n",
    "bax.set_yticklabels([''])\n",
    "bax.invert_yaxis()\n",
    "\n",
    "bax.set_ylabel('Pathways')\n",
    "bax.set_xlabel('Count')\n",
    "\n",
    "bax.legend(loc= 'lower right')\n",
    "plt.rcParams['svg.fonttype'] = 'none'\n",
    "#plt.savefig('rxns_genes_nongenes_path_bar.svg')\n",
    "plt.show()"
   ]
  },
  {
   "cell_type": "markdown",
   "metadata": {},
   "source": [
    "### Distribution of rxns among different compartments"
   ]
  },
  {
   "cell_type": "code",
   "execution_count": 27,
   "metadata": {},
   "outputs": [],
   "source": [
    "df_rxns = df_subs_path.copy()\n",
    "df_rxns.comp = df_rxns.comp.astype('str')\n",
    "#df_rxns.head()"
   ]
  },
  {
   "cell_type": "code",
   "execution_count": 28,
   "metadata": {
    "code_folding": [
     0
    ]
   },
   "outputs": [],
   "source": [
    "def count_rxns_compartment(data):\n",
    "    #COUNT REACTIONS IN COMPARTMENTS\n",
    "    df_rxns_all = data.groupby(['comp'])['rxn'].count().to_frame(name ='rxn_count').reset_index()\n",
    "\n",
    "    df_rxns_all.comp = df_rxns_all.comp.str.replace('{', '')\n",
    "    df_rxns_all.comp = df_rxns_all.comp.str.replace('}', '')\n",
    "\n",
    "    # COUNT REACTIONS IN EACH COMPARTMENT IN CASE THE REACTION IS INVOLVED IN MORE THAN \n",
    "    # ONE COMPARTMENT INCLUDING TRANSPORT REACTIONS\n",
    "    df_rxns_all_temp = df_rxns_all.comp.str.split(pat = \",\", expand=True)\n",
    "    if len(df_rxns_all_temp.columns) == 4:\n",
    "        df_rxns_all_temp.columns = ['comp1','comp2','comp3','comp4']\n",
    "    elif len(df_rxns_all_temp.columns) == 3:\n",
    "        df_rxns_all_temp.columns = ['comp1','comp2','comp3']\n",
    "    elif len(df_rxns_all_temp.columns) == 2:\n",
    "        df_rxns_all_temp.columns = ['comp1','comp2']\n",
    "    elif len(df_rxns_all_temp.columns) == 1:\n",
    "        df_rxns_all_temp.columns = ['comp1']\n",
    "\n",
    "    df_rxns_all_temp['rxn_count'] = df_rxns_all.rxn_count\n",
    "\n",
    "    comp_temp = []\n",
    "    for i, col in enumerate(df_rxns_all_temp.columns):\n",
    "        if (col != 'comp1') & (col !='rxn_count'):\n",
    "            indx_temp = list(df_rxns_all_temp[df_rxns_all_temp[col].notna()].index)\n",
    "            for j, ind in enumerate(indx_temp):\n",
    "                comp_temp.append((df_rxns_all_temp[col].iloc[ind], \n",
    "                              df_rxns_all_temp['rxn_count'].iloc[ind]))\n",
    "    df_extr_comp = pd.DataFrame(comp_temp, columns=['comp', 'rxn_count'])\n",
    "\n",
    "    df_rxns_all_temp1 = df_rxns_all_temp[['comp1', 'rxn_count']]\n",
    "    df_rxns_all_temp1 = df_rxns_all_temp1.rename(columns={'comp1':'comp'})\n",
    "\n",
    "    df_rxns_all_temp1 = pd.concat([df_rxns_all_temp1, df_extr_comp], axis=0).reset_index(drop=True)\n",
    "\n",
    "    df_rxns_all_temp1.comp = df_rxns_all_temp1.comp.astype('str')\n",
    "    df_rxns_all_temp1.comp = df_rxns_all_temp1.comp.str.replace(' ', '')\n",
    "\n",
    "    #RECOUNT THE REACTINS IN COMPARTMENTS\n",
    "    df_comp = df_rxns_all_temp1.groupby(['comp']).sum().reset_index()\n",
    "\n",
    "    for i, comp in enumerate(df_comp.comp):\n",
    "        if comp == \"'c'\":\n",
    "            df_comp.comp.iloc[i] = 'Cytosol'\n",
    "        elif comp == \"'e'\":\n",
    "            df_comp.comp.iloc[i] = 'Extracellular space'\n",
    "        elif comp == \"'p'\":\n",
    "            df_comp.comp.iloc[i] = 'Periplasm'\n",
    "        elif comp == \"'h'\":\n",
    "            df_comp.comp.iloc[i] = 'Chloroplast'\n",
    "        elif comp == \"'m'\":\n",
    "            df_comp.comp.iloc[i] = 'Mitochondria'\n",
    "        elif comp == \"'x'\":\n",
    "            df_comp.comp.iloc[i] = 'Peroxisome/glyoxysome'\n",
    "        elif comp == \"'u'\":\n",
    "            df_comp.comp.iloc[i] = 'Thylakoid'\n",
    "    return df_comp\n",
    "        "
   ]
  },
  {
   "cell_type": "code",
   "execution_count": 29,
   "metadata": {},
   "outputs": [
    {
     "name": "stderr",
     "output_type": "stream",
     "text": [
      "/home/manish/anaconda2/envs/rstudio/lib/python3.7/site-packages/ipykernel_launcher.py:5 \u001b[1;31mFutureWarning\u001b[0m: The default value of regex will change from True to False in a future version. In addition, single character regular expressions will *not* be treated as literal strings when regex=True.\n",
      "/home/manish/anaconda2/envs/rstudio/lib/python3.7/site-packages/ipykernel_launcher.py:6 \u001b[1;31mFutureWarning\u001b[0m: The default value of regex will change from True to False in a future version. In addition, single character regular expressions will *not* be treated as literal strings when regex=True.\n"
     ]
    }
   ],
   "source": [
    "# COUNT RXNS IN COMPARTMENTS BASED ON GENE AND NON-GENE ASSOCIATED RXNS\n",
    "df_rxns_gene = df_rxns[df_rxns.gpr != ''].reset_index(drop=True)\n",
    "df_rxns__nogene = df_rxns[df_rxns.gpr == ''].reset_index(drop=True)\n",
    "df_comp_all = count_rxns_compartment(data=df_rxns)\n",
    "df_comp_gene = count_rxns_compartment(data=df_rxns_gene)\n",
    "df_comp_nogene = count_rxns_compartment(data=df_rxns__nogene)\n",
    "df_comp = pd.merge(df_comp_all, df_comp_gene, on='comp', how='left', suffixes=('_all', '_gene'))\n",
    "df_comp = pd.merge(df_comp, df_comp_nogene, on='comp', how='left')\n",
    "df_comp = df_comp.rename(columns={'rxn_count':'rxn_count_nogene'})\n",
    "df_comp =df_comp.sort_values(by='rxn_count_all', ascending=False)"
   ]
  },
  {
   "cell_type": "code",
   "execution_count": 30,
   "metadata": {},
   "outputs": [
    {
     "data": {
      "text/html": [
       "<div>\n",
       "<style scoped>\n",
       "    .dataframe tbody tr th:only-of-type {\n",
       "        vertical-align: middle;\n",
       "    }\n",
       "\n",
       "    .dataframe tbody tr th {\n",
       "        vertical-align: top;\n",
       "    }\n",
       "\n",
       "    .dataframe thead th {\n",
       "        text-align: right;\n",
       "    }\n",
       "</style>\n",
       "<table border=\"1\" class=\"dataframe\">\n",
       "  <thead>\n",
       "    <tr style=\"text-align: right;\">\n",
       "      <th></th>\n",
       "      <th>comp</th>\n",
       "      <th>rxn_count_all</th>\n",
       "      <th>rxn_count_gene</th>\n",
       "      <th>rxn_count_nogene</th>\n",
       "    </tr>\n",
       "  </thead>\n",
       "  <tbody>\n",
       "    <tr>\n",
       "      <th>0</th>\n",
       "      <td>Cytosol</td>\n",
       "      <td>7312</td>\n",
       "      <td>6766</td>\n",
       "      <td>546</td>\n",
       "    </tr>\n",
       "    <tr>\n",
       "      <th>2</th>\n",
       "      <td>Chloroplast</td>\n",
       "      <td>1176</td>\n",
       "      <td>983</td>\n",
       "      <td>193</td>\n",
       "    </tr>\n",
       "    <tr>\n",
       "      <th>3</th>\n",
       "      <td>Mitochondria</td>\n",
       "      <td>840</td>\n",
       "      <td>693</td>\n",
       "      <td>147</td>\n",
       "    </tr>\n",
       "    <tr>\n",
       "      <th>1</th>\n",
       "      <td>Extracellular space</td>\n",
       "      <td>706</td>\n",
       "      <td>126</td>\n",
       "      <td>580</td>\n",
       "    </tr>\n",
       "    <tr>\n",
       "      <th>4</th>\n",
       "      <td>Periplasm</td>\n",
       "      <td>277</td>\n",
       "      <td>36</td>\n",
       "      <td>241</td>\n",
       "    </tr>\n",
       "    <tr>\n",
       "      <th>6</th>\n",
       "      <td>Peroxisome/glyoxysome</td>\n",
       "      <td>202</td>\n",
       "      <td>186</td>\n",
       "      <td>16</td>\n",
       "    </tr>\n",
       "    <tr>\n",
       "      <th>5</th>\n",
       "      <td>Thylakoid</td>\n",
       "      <td>46</td>\n",
       "      <td>19</td>\n",
       "      <td>27</td>\n",
       "    </tr>\n",
       "  </tbody>\n",
       "</table>\n",
       "</div>"
      ],
      "text/plain": [
       "                    comp  rxn_count_all  rxn_count_gene  rxn_count_nogene\n",
       "0                Cytosol           7312            6766               546\n",
       "2            Chloroplast           1176             983               193\n",
       "3           Mitochondria            840             693               147\n",
       "1    Extracellular space            706             126               580\n",
       "4              Periplasm            277              36               241\n",
       "6  Peroxisome/glyoxysome            202             186                16\n",
       "5              Thylakoid             46              19                27"
      ]
     },
     "execution_count": 30,
     "metadata": {},
     "output_type": "execute_result"
    }
   ],
   "source": [
    "df_comp"
   ]
  },
  {
   "cell_type": "code",
   "execution_count": 31,
   "metadata": {
    "scrolled": false
   },
   "outputs": [
    {
     "name": "stderr",
     "output_type": "stream",
     "text": [
      "/home/manish/anaconda2/envs/rstudio/lib/python3.7/site-packages/brokenaxes.py:294 \u001b[1;31mUserWarning\u001b[0m: FixedFormatter should only be used together with FixedLocator\n"
     ]
    },
    {
     "data": {
      "image/png": "[encoded data removed]",
      "text/plain": [
       "<Figure size 504x216 with 3 Axes>"
      ]
     },
     "metadata": {},
     "output_type": "display_data"
    }
   ],
   "source": [
    "labels = list(df_comp.comp)\n",
    "comp_gene = list(df_comp.rxn_count_gene)\n",
    "comp_nogene = list(df_comp.rxn_count_nogene)\n",
    "plt.figure(figsize=(7,3))\n",
    "width = 0.35       # the width of the bars: can also be len(x) sequence\n",
    "bax = brokenaxes(xlims=((0, 1000), (4500, 5000)), \n",
    "                 #hspace=.05,\n",
    "                 wspace=0.05\n",
    "                 )\n",
    "\n",
    "bax.barh(labels, comp_gene, width, label='Gene associated reactions', color='#2c7fb8')\n",
    "bax.barh(labels, comp_nogene, width, left=comp_gene,\n",
    "       label='Non-gene associated reactions', color ='#c6dbef')\n",
    "bax.set_yticks(np.arange(len(labels)))\n",
    "#bax.set_yticklabels(labels)\n",
    "bax.set_yticklabels([''])\n",
    "bax.invert_yaxis()\n",
    "\n",
    "bax.set_ylabel('Compartments')\n",
    "bax.set_xlabel('Count')\n",
    "#bax.set_title('Scores by group and gender')\n",
    "bax.legend(loc= 'lower right')\n",
    "plt.rcParams['svg.fonttype'] = 'none'\n",
    "#plt.savefig('rxns_genes_nongenes_comp_bar.svg')\n",
    "plt.show()"
   ]
  },
  {
   "cell_type": "code",
   "execution_count": null,
   "metadata": {},
   "outputs": [],
   "source": []
  },
  {
   "cell_type": "code",
   "execution_count": null,
   "metadata": {},
   "outputs": [],
   "source": []
  },
  {
   "cell_type": "code",
   "execution_count": null,
   "metadata": {},
   "outputs": [],
   "source": []
  },
  {
   "cell_type": "code",
   "execution_count": null,
   "metadata": {},
   "outputs": [],
   "source": []
  }
 ],
 "metadata": {
  "kernelspec": {
   "display_name": "Python 3",
   "language": "python",
   "name": "python3"
  },
  "language_info": {
   "codemirror_mode": {
    "name": "ipython",
    "version": 3
   },
   "file_extension": ".py",
   "mimetype": "text/x-python",
   "name": "python",
   "nbconvert_exporter": "python",
   "pygments_lexer": "ipython3",
   "version": "3.7.11"
  },
  "toc": {
   "base_numbering": 1,
   "nav_menu": {},
   "number_sections": true,
   "sideBar": true,
   "skip_h1_title": false,
   "title_cell": "Table of Contents",
   "title_sidebar": "Contents",
   "toc_cell": true,
   "toc_position": {
    "height": "calc(100% - 180px)",
    "left": "10px",
    "top": "150px",
    "width": "296.462px"
   },
   "toc_section_display": true,
   "toc_window_display": true
  }
 },
 "nbformat": 4,
 "nbformat_minor": 4
}
