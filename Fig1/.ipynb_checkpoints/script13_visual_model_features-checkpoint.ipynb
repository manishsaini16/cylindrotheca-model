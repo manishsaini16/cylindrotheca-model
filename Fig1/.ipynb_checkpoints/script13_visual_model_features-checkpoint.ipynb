{
 "cells": [
  {
   "cell_type": "markdown",
   "metadata": {
    "toc": true
   },
   "source": [
    "<h1>Table of Contents<span class=\"tocSkip\"></span></h1>\n",
    "<div class=\"toc\"><ul class=\"toc-item\"><li><span><a href=\"#Functions\" data-toc-modified-id=\"Functions-1\"><span class=\"toc-item-num\">1&nbsp;&nbsp;</span>Functions</a></span></li><li><span><a href=\"#version-2\" data-toc-modified-id=\"version-2-2\"><span class=\"toc-item-num\">2&nbsp;&nbsp;</span>version 2</a></span><ul class=\"toc-item\"><li><ul class=\"toc-item\"><li><span><a href=\"#main-features\" data-toc-modified-id=\"main-features-2.0.1\"><span class=\"toc-item-num\">2.0.1&nbsp;&nbsp;</span>main features</a></span></li></ul></li><li><span><a href=\"#reactions-association-with-genes-and-non-genes\" data-toc-modified-id=\"reactions-association-with-genes-and-non-genes-2.1\"><span class=\"toc-item-num\">2.1&nbsp;&nbsp;</span>reactions association with genes and non-genes</a></span><ul class=\"toc-item\"><li><span><a href=\"#rxns-pathway-wise\" data-toc-modified-id=\"rxns-pathway-wise-2.1.1\"><span class=\"toc-item-num\">2.1.1&nbsp;&nbsp;</span>rxns pathway-wise</a></span></li><li><span><a href=\"#rxns-compartment-wise\" data-toc-modified-id=\"rxns-compartment-wise-2.1.2\"><span class=\"toc-item-num\">2.1.2&nbsp;&nbsp;</span>rxns compartment-wise</a></span></li></ul></li><li><span><a href=\"#rxns-added-to-draft-model-based-on-EC-numbers\" data-toc-modified-id=\"rxns-added-to-draft-model-based-on-EC-numbers-2.2\"><span class=\"toc-item-num\">2.2&nbsp;&nbsp;</span>rxns added to draft model based on EC numbers</a></span></li><li><span><a href=\"#save-rxns-stat\" data-toc-modified-id=\"save-rxns-stat-2.3\"><span class=\"toc-item-num\">2.3&nbsp;&nbsp;</span>save rxns stat</a></span></li><li><span><a href=\"#save-met-stat\" data-toc-modified-id=\"save-met-stat-2.4\"><span class=\"toc-item-num\">2.4&nbsp;&nbsp;</span>save met stat</a></span></li><li><span><a href=\"#save-rxns-added-during-gap-filling\" data-toc-modified-id=\"save-rxns-added-during-gap-filling-2.5\"><span class=\"toc-item-num\">2.5&nbsp;&nbsp;</span>save rxns added during gap-filling</a></span></li><li><span><a href=\"#save-reactants-in-biomass-reaction\" data-toc-modified-id=\"save-reactants-in-biomass-reaction-2.6\"><span class=\"toc-item-num\">2.6&nbsp;&nbsp;</span>save reactants in biomass reaction</a></span></li></ul></li></ul></div>"
   ]
  },
  {
   "cell_type": "code",
   "execution_count": 1,
   "metadata": {},
   "outputs": [],
   "source": [
    "#%matplotlib inline\n",
    "import pandas as pd\n",
    "import numpy as np\n",
    "import xlrd\n",
    "import seaborn as sns\n",
    "import matplotlib.pyplot as plt\n",
    "import matplotlib.patches as mpatches\n",
    "from functools import reduce\n",
    "import glob\n",
    "import os\n",
    "import cobra\n",
    "import re\n",
    "from jupyterthemes import jtplot\n",
    "from tqdm import tqdm\n",
    "from brokenaxes import brokenaxes\n",
    "#import mca\n",
    "pd.options.mode.chained_assignment = None\n",
    "jtplot.style(theme='grade3', grid=False)"
   ]
  },
  {
   "cell_type": "markdown",
   "metadata": {},
   "source": [
    "# Functions"
   ]
  },
  {
   "cell_type": "code",
   "execution_count": 2,
   "metadata": {
    "code_folding": [
     1
    ]
   },
   "outputs": [],
   "source": [
    "# FUNCTION compare rxns, mets, and genes of two models\n",
    "def compare_two_models(model1, model2):\n",
    "    df_rxns_m1=get_rxns_stat_from_model(model1)\n",
    "    df_rxns_m2=get_rxns_stat_from_model(model2)\n",
    "    #compare rxns\n",
    "    df_rxns_m1_temp = df_rxns_m1.drop_duplicates(subset='rxns', \n",
    "                                                 keep='first').reset_index(drop=True)\n",
    "    df_rxns_m1_temp['status_model1'] = 'present'\n",
    "    df_rxns_m1_temp= df_rxns_m1_temp[['rxns', 'status_model1']]\n",
    "    df_rxns_m1_temp.rxns =df_rxns_m1_temp.rxns.astype('str')\n",
    "    df_rxns_m2_temp = df_rxns_m2.drop_duplicates(subset='rxns', \n",
    "                                                 keep='first').reset_index(drop=True)\n",
    "    df_rxns_m2_temp['status_model2'] = 'present'\n",
    "    df_rxns_m2_temp= df_rxns_m2_temp[['rxns', 'status_model2']]\n",
    "    df_rxns_m2_temp.rxns =df_rxns_m2_temp.rxns.astype('str')\n",
    "    df_rxns_compare = pd.merge(df_rxns_m1_temp, df_rxns_m2_temp, on='rxns', how='outer')\n",
    "    df_rxns_compare=df_rxns_compare[df_rxns_compare.status_model1.isna() | \n",
    "                    df_rxns_compare.status_model2.isna()].reset_index(drop=True)\n",
    "    #print(df_rxns_compare.to_string())\n",
    "    #compare mets\n",
    "    df_rxns_m1_temp = df_rxns_m1.drop_duplicates(subset='mets', \n",
    "                                                 keep='first').reset_index(drop=True)\n",
    "    df_rxns_m1_temp['status_model1'] = 'present'\n",
    "    df_rxns_m1_temp= df_rxns_m1_temp[['mets', 'status_model1']]\n",
    "    df_rxns_m1_temp.mets =df_rxns_m1_temp.mets.astype('str')\n",
    "    df_rxns_m2_temp = df_rxns_m2.drop_duplicates(subset='mets', \n",
    "                                                 keep='first').reset_index(drop=True)\n",
    "    df_rxns_m2_temp['status_model2'] = 'present'\n",
    "    df_rxns_m2_temp= df_rxns_m2_temp[['mets', 'status_model2']]\n",
    "    df_rxns_m2_temp.mets =df_rxns_m2_temp.mets.astype('str')\n",
    "    df_mets_compare = pd.merge(df_rxns_m1_temp, df_rxns_m2_temp, on='mets', how='outer')\n",
    "    df_mets_compare=df_mets_compare[df_mets_compare.status_model1.isna() | \n",
    "                    df_mets_compare.status_model2.isna()].reset_index(drop=True)\n",
    "    #compare genes\n",
    "    df_genes_m1 =get_only_genes_stat_from_model(model1)\n",
    "    df_genes_m2 =get_only_genes_stat_from_model(model2)\n",
    "    df_genes_m1_temp = df_genes_m1.drop_duplicates(subset='genes', \n",
    "                                                 keep='first').reset_index(drop=True)\n",
    "    df_genes_m1_temp['status_model1'] = 'present'\n",
    "    df_genes_m1_temp= df_genes_m1_temp[['genes', 'status_model1']]\n",
    "    df_genes_m1_temp.genes =df_genes_m1_temp.genes.astype('str')\n",
    "    df_genes_m2_temp = df_genes_m2.drop_duplicates(subset='genes', \n",
    "                                                 keep='first').reset_index(drop=True)\n",
    "    df_genes_m2_temp['status_model2'] = 'present'\n",
    "    df_genes_m2_temp= df_genes_m2_temp[['genes', 'status_model2']]\n",
    "    df_genes_m2_temp.genes =df_genes_m2_temp.genes.astype('str')\n",
    "    df_genes_compare = pd.merge(df_genes_m1_temp, df_genes_m2_temp, on='genes', how='outer')\n",
    "    df_genes_compare=df_genes_compare[df_genes_compare.status_model1.isna() | \n",
    "                    df_genes_compare.status_model2.isna()].reset_index(drop=True)\n",
    "    #print(df_mets_compare.to_string())\n",
    "    \n",
    "    return df_rxns_compare, df_mets_compare, df_genes_compare"
   ]
  },
  {
   "cell_type": "code",
   "execution_count": 3,
   "metadata": {
    "code_folding": [
     1
    ]
   },
   "outputs": [],
   "source": [
    "# FUNCTION get reactions and associated metabolites and gene reaction rules\n",
    "def get_rxns_stat_from_model(model):    \n",
    "    rxns=[]\n",
    "    for i, rxn in enumerate(model.reactions):\n",
    "        for j, met in enumerate(rxn.metabolites):\n",
    "            rxns.append((rxn.id, met.id, rxn.gene_reaction_rule))\n",
    "    df_rxns=pd.DataFrame(rxns, columns=['rxns', 'mets', 'gr'])\n",
    "    return df_rxns"
   ]
  },
  {
   "cell_type": "code",
   "execution_count": 4,
   "metadata": {
    "code_folding": [
     2
    ]
   },
   "outputs": [],
   "source": [
    "# FUNCTION get reactions and associated gpr, equation, subsystems and compartments\n",
    "# NO METABOLITES\n",
    "def get_only_rxns_stat_from_model(model):    \n",
    "    rxns=[]\n",
    "    for i, rxn in enumerate(model.reactions):\n",
    "        rxns.append((rxn.id, rxn.name, rxn.gene_reaction_rule, rxn.reaction, rxn.subsystem, rxn.compartments))\n",
    "    df_rxns=pd.DataFrame(rxns, columns=['rxns', 'rxn_name', 'gr', 'equation', 'subs', 'comp'])\n",
    "    return df_rxns"
   ]
  },
  {
   "cell_type": "code",
   "execution_count": 5,
   "metadata": {
    "code_folding": [
     1
    ]
   },
   "outputs": [],
   "source": [
    "# FUNCTION get metabolites and their names\n",
    "def get_only_mets_stat_from_model(model):    \n",
    "    mets=[]\n",
    "    for i, met in enumerate(model.metabolites):\n",
    "        mets.append((met.id, met.name, met.formula, met.compartment))\n",
    "    df_mets=pd.DataFrame(mets, columns=['mets', 'met_name', 'met_formula', 'met_conpartment'])\n",
    "    return df_mets"
   ]
  },
  {
   "cell_type": "code",
   "execution_count": 6,
   "metadata": {
    "code_folding": [
     1
    ]
   },
   "outputs": [],
   "source": [
    "# extract only genes\n",
    "def get_only_genes_stat_from_model(model):\n",
    "    genes = []\n",
    "    for i, gene in enumerate(model.genes):\n",
    "        genes.append(gene.id)\n",
    "    df_genes = pd.DataFrame(genes, columns=['genes'])\n",
    "    return df_genes"
   ]
  },
  {
   "cell_type": "markdown",
   "metadata": {},
   "source": [
    "# Model features"
   ]
  },
  {
   "cell_type": "code",
   "execution_count": 7,
   "metadata": {},
   "outputs": [],
   "source": [
    "# load model\n",
    "model_path = '/home/manish/manish@phd2009.iitgn.ac.in/postdoc_ucsd/projects/1_cylindrotheca/gem_cyl/other_photosynthetic_models/round_02/iMK_draft18.06.json'\n",
    "model = cobra.io.load_json_model(model_path)"
   ]
  },
  {
   "cell_type": "code",
   "execution_count": null,
   "metadata": {},
   "outputs": [],
   "source": []
  },
  {
   "cell_type": "markdown",
   "metadata": {},
   "source": [
    "### main features"
   ]
  },
  {
   "cell_type": "code",
   "execution_count": 8,
   "metadata": {
    "code_folding": [],
    "scrolled": true
   },
   "outputs": [
    {
     "name": "stdout",
     "output_type": "stream",
     "text": [
      "[1961, 3559, 6718]\n"
     ]
    },
    {
     "data": {
      "image/png": "[encoded data removed]",
      "text/plain": [
       "<Figure size 50.4x144 with 1 Axes>"
      ]
     },
     "metadata": {},
     "output_type": "display_data"
    }
   ],
   "source": [
    "# plot main features\n",
    "width = 0.35       # the width of the bars: can also be len(x) sequence\n",
    "    \n",
    "items = ['Genes', 'Metabolites', 'Reactions']\n",
    "values = [len(model.genes),\n",
    "            len(model.metabolites),\n",
    "            len(model.reactions)]\n",
    "\n",
    "fig, ax = plt.subplots(figsize=(.7,2))\n",
    "\n",
    "ax.bar(items, values, width, \n",
    "       #label='Reactions',\n",
    "       color= ['#abd9e9', '#fdae61', '#2c7fb8'],\n",
    "       #edgecolor='#737373',\n",
    "       #linewidth=0.5\n",
    "       )\n",
    "#ax.barh(items, change_values, width, left=old_values,\n",
    "           #label='Newly added', color= '#08519c')\n",
    "ax.set_xlabel('Model features')\n",
    "ax.set_ylabel('Count')\n",
    "    \n",
    "#ax.set_title('Updated reference model')\n",
    "#ax.legend()\n",
    "    \n",
    "#ax.invert_yaxis()\n",
    "#plt.yticks(np.arange(5),['iMK1806', 'iTps1432','iLB1027_lipid', 'iThaps987', 'iML830'])\n",
    "plt.xticks(rotation=60, ha='right')\n",
    "plt.rcParams['svg.fonttype'] = 'none'\n",
    "plt.savefig('./script13_data/model_main_features_bar_18.05.svg')\n",
    "print(values)\n",
    "plt.show()"
   ]
  },
  {
   "cell_type": "markdown",
   "metadata": {},
   "source": [
    "## reactions association with genes and non-genes"
   ]
  },
  {
   "cell_type": "code",
   "execution_count": 9,
   "metadata": {},
   "outputs": [],
   "source": [
    "rxns = []\n",
    "for i, rxn in enumerate(model.reactions):\n",
    "    rxns.append((rxn.id, rxn.gene_reaction_rule))\n",
    "df_rxns = pd.DataFrame(rxns, columns=['rxn', 'gpr'])"
   ]
  },
  {
   "cell_type": "code",
   "execution_count": 10,
   "metadata": {},
   "outputs": [],
   "source": [
    "rxn_no_gene = len(df_rxns[df_rxns.gpr ==''])\n",
    "rxn_gene =len(model.reactions) - len(df_rxns[df_rxns.gpr ==''])"
   ]
  },
  {
   "cell_type": "code",
   "execution_count": 11,
   "metadata": {
    "code_folding": [],
    "scrolled": false
   },
   "outputs": [
    {
     "name": "stdout",
     "output_type": "stream",
     "text": [
      "[6050, 668]\n"
     ]
    },
    {
     "data": {
      "image/png": "[encoded data removed]",
      "text/plain": [
       "<Figure size 360x288 with 1 Axes>"
      ]
     },
     "metadata": {},
     "output_type": "display_data"
    }
   ],
   "source": [
    "# plot gene and non-gene associated rxns (Pie chart)\n",
    "plt.figure(figsize=(5,4))\n",
    "values = [rxn_gene, rxn_no_gene]\n",
    "items = ['gene associated reactions', 'non-gene associated reactions']\n",
    "my_circle=plt.Circle( (0,0), 0.7, color='white')\n",
    "plt.pie(values, \n",
    "        #labels=items, \n",
    "        wedgeprops = { 'linewidth' : 2, 'edgecolor' : 'white' }, colors=['#2c7fb8','#c6dbef'])\n",
    "p=plt.gcf()\n",
    "p.gca().add_artist(my_circle)\n",
    "plt.axis('equal')\n",
    "plt.legend(items, loc='best', bbox_to_anchor=(0.87, 0, 0.5, 1))\n",
    "#plt.xlabel([])\n",
    "#plt.ylabel([])\n",
    "print(values)\n",
    "#plt.show()\n",
    "plt.savefig('./script13_data/rxns_genes_nongenes_pie_18.05.svg')"
   ]
  },
  {
   "cell_type": "code",
   "execution_count": 12,
   "metadata": {},
   "outputs": [
    {
     "data": {
      "text/plain": [
       "90.05656445370646"
      ]
     },
     "execution_count": 12,
     "metadata": {},
     "output_type": "execute_result"
    }
   ],
   "source": [
    "6050/6718*100"
   ]
  },
  {
   "cell_type": "code",
   "execution_count": 13,
   "metadata": {},
   "outputs": [
    {
     "data": {
      "text/plain": [
       "9.94343554629354"
      ]
     },
     "execution_count": 13,
     "metadata": {},
     "output_type": "execute_result"
    }
   ],
   "source": [
    "668/6718*100"
   ]
  },
  {
   "cell_type": "markdown",
   "metadata": {},
   "source": [
    "### rxns pathway-wise"
   ]
  },
  {
   "cell_type": "code",
   "execution_count": 14,
   "metadata": {},
   "outputs": [],
   "source": [
    "rxns = []\n",
    "for i, rxn in enumerate(model.reactions):\n",
    "    rxns.append((rxn.id, rxn.gene_reaction_rule, rxn.subsystem, rxn.compartments))\n",
    "df_rxns = pd.DataFrame(rxns, columns=['rxn', 'gpr', 'subs', 'comp'])"
   ]
  },
  {
   "cell_type": "code",
   "execution_count": 15,
   "metadata": {},
   "outputs": [],
   "source": [
    "# FIX SOME UNASSIGNED SUBSYSTWMS\n",
    "ind_temp =list(df_rxns[(df_rxns.subs =='') &\n",
    "        (df_rxns.rxn.str.contains('EX_|DM_'))].index)\n",
    "df_rxns.subs.iloc[ind_temp] = 'Extracellular exchange'"
   ]
  },
  {
   "cell_type": "code",
   "execution_count": 16,
   "metadata": {
    "scrolled": true
   },
   "outputs": [
    {
     "data": {
      "text/html": [
       "<div>\n",
       "<style scoped>\n",
       "    .dataframe tbody tr th:only-of-type {\n",
       "        vertical-align: middle;\n",
       "    }\n",
       "\n",
       "    .dataframe tbody tr th {\n",
       "        vertical-align: top;\n",
       "    }\n",
       "\n",
       "    .dataframe thead th {\n",
       "        text-align: right;\n",
       "    }\n",
       "</style>\n",
       "<table border=\"1\" class=\"dataframe\">\n",
       "  <thead>\n",
       "    <tr style=\"text-align: right;\">\n",
       "      <th></th>\n",
       "      <th>rxn</th>\n",
       "      <th>gpr</th>\n",
       "      <th>subs</th>\n",
       "      <th>comp</th>\n",
       "    </tr>\n",
       "  </thead>\n",
       "  <tbody>\n",
       "    <tr>\n",
       "      <th>3602</th>\n",
       "      <td>4ABUTD</td>\n",
       "      <td>CylT004704-RA or CylT007145-RA or CylT007315-R...</td>\n",
       "      <td></td>\n",
       "      <td>{c}</td>\n",
       "    </tr>\n",
       "    <tr>\n",
       "      <th>3645</th>\n",
       "      <td>ACOAD4</td>\n",
       "      <td>CylT004946-RA or CylT013192-RA or CylT005381-R...</td>\n",
       "      <td></td>\n",
       "      <td>{c}</td>\n",
       "    </tr>\n",
       "    <tr>\n",
       "      <th>3693</th>\n",
       "      <td>ALCDkt</td>\n",
       "      <td>CylT028960-RA or CylT001620-RA or CylT019525-RA</td>\n",
       "      <td></td>\n",
       "      <td>{c}</td>\n",
       "    </tr>\n",
       "    <tr>\n",
       "      <th>4002</th>\n",
       "      <td>NBAH</td>\n",
       "      <td>CylT004798-RA or CylT007885-RA or CylT013808-R...</td>\n",
       "      <td></td>\n",
       "      <td>{c}</td>\n",
       "    </tr>\n",
       "    <tr>\n",
       "      <th>6376</th>\n",
       "      <td>MAN1PT</td>\n",
       "      <td></td>\n",
       "      <td></td>\n",
       "      <td>{c}</td>\n",
       "    </tr>\n",
       "    <tr>\n",
       "      <th>6377</th>\n",
       "      <td>CHLPC2S_h</td>\n",
       "      <td></td>\n",
       "      <td></td>\n",
       "      <td>{h}</td>\n",
       "    </tr>\n",
       "    <tr>\n",
       "      <th>6378</th>\n",
       "      <td>ASCBPOX_h</td>\n",
       "      <td></td>\n",
       "      <td></td>\n",
       "      <td>{h}</td>\n",
       "    </tr>\n",
       "    <tr>\n",
       "      <th>6379</th>\n",
       "      <td>MPOXR_h</td>\n",
       "      <td></td>\n",
       "      <td></td>\n",
       "      <td>{h}</td>\n",
       "    </tr>\n",
       "    <tr>\n",
       "      <th>6380</th>\n",
       "      <td>NSY_h</td>\n",
       "      <td></td>\n",
       "      <td></td>\n",
       "      <td>{h}</td>\n",
       "    </tr>\n",
       "    <tr>\n",
       "      <th>6381</th>\n",
       "      <td>CHLPC1S_h</td>\n",
       "      <td></td>\n",
       "      <td></td>\n",
       "      <td>{h}</td>\n",
       "    </tr>\n",
       "    <tr>\n",
       "      <th>6382</th>\n",
       "      <td>FXANS_h</td>\n",
       "      <td></td>\n",
       "      <td></td>\n",
       "      <td>{h}</td>\n",
       "    </tr>\n",
       "    <tr>\n",
       "      <th>6383</th>\n",
       "      <td>DIADINX_h</td>\n",
       "      <td></td>\n",
       "      <td></td>\n",
       "      <td>{h}</td>\n",
       "    </tr>\n",
       "    <tr>\n",
       "      <th>6384</th>\n",
       "      <td>MCS</td>\n",
       "      <td></td>\n",
       "      <td></td>\n",
       "      <td>{h}</td>\n",
       "    </tr>\n",
       "  </tbody>\n",
       "</table>\n",
       "</div>"
      ],
      "text/plain": [
       "            rxn                                                gpr subs comp\n",
       "3602     4ABUTD  CylT004704-RA or CylT007145-RA or CylT007315-R...       {c}\n",
       "3645     ACOAD4  CylT004946-RA or CylT013192-RA or CylT005381-R...       {c}\n",
       "3693     ALCDkt    CylT028960-RA or CylT001620-RA or CylT019525-RA       {c}\n",
       "4002       NBAH  CylT004798-RA or CylT007885-RA or CylT013808-R...       {c}\n",
       "6376     MAN1PT                                                          {c}\n",
       "6377  CHLPC2S_h                                                          {h}\n",
       "6378  ASCBPOX_h                                                          {h}\n",
       "6379    MPOXR_h                                                          {h}\n",
       "6380      NSY_h                                                          {h}\n",
       "6381  CHLPC1S_h                                                          {h}\n",
       "6382    FXANS_h                                                          {h}\n",
       "6383  DIADINX_h                                                          {h}\n",
       "6384        MCS                                                          {h}"
      ]
     },
     "execution_count": 16,
     "metadata": {},
     "output_type": "execute_result"
    }
   ],
   "source": [
    "# still these rxns have unassigned subsystems\n",
    "# fix later or leave these are few\n",
    "df_rxns[(df_rxns.subs =='')]"
   ]
  },
  {
   "cell_type": "code",
   "execution_count": 17,
   "metadata": {},
   "outputs": [
    {
     "data": {
      "text/plain": [
       "209"
      ]
     },
     "execution_count": 17,
     "metadata": {},
     "output_type": "execute_result"
    }
   ],
   "source": [
    "len(df_rxns.subs.unique())"
   ]
  },
  {
   "cell_type": "code",
   "execution_count": 18,
   "metadata": {},
   "outputs": [],
   "source": [
    "# LOAD PATHWAY DICTIONARY\n",
    "pathw_path = '/home/manish/manish@phd2009.iitgn.ac.in/postdoc_ucsd/projects/project_juan/metabolicMaps/pathways_manual.txt'\n",
    "df_path = pd.read_csv(pathw_path, sep='\\t', header=None)\n",
    "df_path.columns = ['subs', 'temp', 'path']\n",
    "df_path =df_path.drop(labels='temp', axis=1)"
   ]
  },
  {
   "cell_type": "code",
   "execution_count": 19,
   "metadata": {},
   "outputs": [],
   "source": [
    "df_subs_path = pd.merge(df_rxns, df_path, on='subs', how='left')"
   ]
  },
  {
   "cell_type": "code",
   "execution_count": 20,
   "metadata": {},
   "outputs": [],
   "source": [
    "def refine_path(source, target):    \n",
    "    indx_temp = df_subs_path[df_subs_path.path == source].path.index\n",
    "    df_subs_path.path.iloc[indx_temp] = target\n",
    "    return df_subs_path"
   ]
  },
  {
   "cell_type": "code",
   "execution_count": 21,
   "metadata": {},
   "outputs": [],
   "source": [
    "df_subs_path = refine_path('Biomass', 'Not specified')\n",
    "df_subs_path = refine_path('Not specified' , 'Unassigned')\n"
   ]
  },
  {
   "cell_type": "code",
   "execution_count": 22,
   "metadata": {},
   "outputs": [
    {
     "data": {
      "text/html": [
       "<div>\n",
       "<style scoped>\n",
       "    .dataframe tbody tr th:only-of-type {\n",
       "        vertical-align: middle;\n",
       "    }\n",
       "\n",
       "    .dataframe tbody tr th {\n",
       "        vertical-align: top;\n",
       "    }\n",
       "\n",
       "    .dataframe thead th {\n",
       "        text-align: right;\n",
       "    }\n",
       "</style>\n",
       "<table border=\"1\" class=\"dataframe\">\n",
       "  <thead>\n",
       "    <tr style=\"text-align: right;\">\n",
       "      <th></th>\n",
       "      <th>rxn</th>\n",
       "      <th>gpr</th>\n",
       "      <th>subs</th>\n",
       "      <th>comp</th>\n",
       "      <th>path</th>\n",
       "    </tr>\n",
       "  </thead>\n",
       "  <tbody>\n",
       "    <tr>\n",
       "      <th>0</th>\n",
       "      <td>IDP_h</td>\n",
       "      <td>CylT023618-RA or CylT000852-RA</td>\n",
       "      <td>Oxidative phosphorylation</td>\n",
       "      <td>{h}</td>\n",
       "      <td>Energy metabolism</td>\n",
       "    </tr>\n",
       "    <tr>\n",
       "      <th>1</th>\n",
       "      <td>IDP_h</td>\n",
       "      <td>CylT023618-RA or CylT000852-RA</td>\n",
       "      <td>Oxidative phosphorylation</td>\n",
       "      <td>{h}</td>\n",
       "      <td>Energy metabolism</td>\n",
       "    </tr>\n",
       "    <tr>\n",
       "      <th>2</th>\n",
       "      <td>PPAm</td>\n",
       "      <td>CylT023618-RA or CylT000852-RA</td>\n",
       "      <td>Oxidative phosphorylation</td>\n",
       "      <td>{m}</td>\n",
       "      <td>Energy metabolism</td>\n",
       "    </tr>\n",
       "    <tr>\n",
       "      <th>3</th>\n",
       "      <td>PPAm</td>\n",
       "      <td>CylT023618-RA or CylT000852-RA</td>\n",
       "      <td>Oxidative phosphorylation</td>\n",
       "      <td>{m}</td>\n",
       "      <td>Energy metabolism</td>\n",
       "    </tr>\n",
       "    <tr>\n",
       "      <th>4</th>\n",
       "      <td>THD1m</td>\n",
       "      <td>CylT009889-RA or CylT004640-RA or CylT011104-R...</td>\n",
       "      <td>Cofactor biosynthesis: Nicotinate and Nicotina...</td>\n",
       "      <td>{c, m}</td>\n",
       "      <td>Metabolism of cofactors and vitamins</td>\n",
       "    </tr>\n",
       "  </tbody>\n",
       "</table>\n",
       "</div>"
      ],
      "text/plain": [
       "     rxn                                                gpr  \\\n",
       "0  IDP_h                     CylT023618-RA or CylT000852-RA   \n",
       "1  IDP_h                     CylT023618-RA or CylT000852-RA   \n",
       "2   PPAm                     CylT023618-RA or CylT000852-RA   \n",
       "3   PPAm                     CylT023618-RA or CylT000852-RA   \n",
       "4  THD1m  CylT009889-RA or CylT004640-RA or CylT011104-R...   \n",
       "\n",
       "                                                subs    comp  \\\n",
       "0                          Oxidative phosphorylation     {h}   \n",
       "1                          Oxidative phosphorylation     {h}   \n",
       "2                          Oxidative phosphorylation     {m}   \n",
       "3                          Oxidative phosphorylation     {m}   \n",
       "4  Cofactor biosynthesis: Nicotinate and Nicotina...  {c, m}   \n",
       "\n",
       "                                   path  \n",
       "0                     Energy metabolism  \n",
       "1                     Energy metabolism  \n",
       "2                     Energy metabolism  \n",
       "3                     Energy metabolism  \n",
       "4  Metabolism of cofactors and vitamins  "
      ]
     },
     "execution_count": 22,
     "metadata": {},
     "output_type": "execute_result"
    }
   ],
   "source": [
    "df_subs_path.head()"
   ]
  },
  {
   "cell_type": "code",
   "execution_count": 23,
   "metadata": {},
   "outputs": [
    {
     "data": {
      "text/plain": [
       "18"
      ]
     },
     "execution_count": 23,
     "metadata": {},
     "output_type": "execute_result"
    }
   ],
   "source": [
    "len(df_subs_path.path.unique()) #it is counting nan as well"
   ]
  },
  {
   "cell_type": "code",
   "execution_count": 24,
   "metadata": {},
   "outputs": [],
   "source": [
    "df_path_counts_all = df_subs_path.path.value_counts().to_frame().reset_index()\n",
    "df_path_counts_all = df_path_counts_all.rename(columns={'index':'path_name'})"
   ]
  },
  {
   "cell_type": "code",
   "execution_count": 25,
   "metadata": {},
   "outputs": [],
   "source": [
    "df_path_counts_gene = df_subs_path[df_subs_path.gpr != ''].path.value_counts().to_frame().reset_index()"
   ]
  },
  {
   "cell_type": "code",
   "execution_count": 26,
   "metadata": {},
   "outputs": [],
   "source": [
    "df_path_counts_nogene = df_subs_path[df_subs_path.gpr == ''].path.value_counts().to_frame().reset_index()"
   ]
  },
  {
   "cell_type": "code",
   "execution_count": 27,
   "metadata": {},
   "outputs": [],
   "source": [
    "df_path_counts = pd.merge(df_path_counts_gene, df_path_counts_nogene, on='index', \n",
    "                 how='left', suffixes=('_gene', '_nogene')).fillna(0.0)"
   ]
  },
  {
   "cell_type": "code",
   "execution_count": 28,
   "metadata": {},
   "outputs": [],
   "source": [
    "df_path_counts = df_path_counts.rename(columns={'index':'path_name'})"
   ]
  },
  {
   "cell_type": "code",
   "execution_count": 29,
   "metadata": {},
   "outputs": [
    {
     "data": {
      "text/html": [
       "<div>\n",
       "<style scoped>\n",
       "    .dataframe tbody tr th:only-of-type {\n",
       "        vertical-align: middle;\n",
       "    }\n",
       "\n",
       "    .dataframe tbody tr th {\n",
       "        vertical-align: top;\n",
       "    }\n",
       "\n",
       "    .dataframe thead th {\n",
       "        text-align: right;\n",
       "    }\n",
       "</style>\n",
       "<table border=\"1\" class=\"dataframe\">\n",
       "  <thead>\n",
       "    <tr style=\"text-align: right;\">\n",
       "      <th></th>\n",
       "      <th>path_name</th>\n",
       "      <th>path_gene</th>\n",
       "      <th>path_nogene</th>\n",
       "    </tr>\n",
       "  </thead>\n",
       "  <tbody>\n",
       "    <tr>\n",
       "      <th>0</th>\n",
       "      <td>Lipid metabolism</td>\n",
       "      <td>6306</td>\n",
       "      <td>40.0</td>\n",
       "    </tr>\n",
       "    <tr>\n",
       "      <th>1</th>\n",
       "      <td>Amino acid metabolism</td>\n",
       "      <td>495</td>\n",
       "      <td>18.0</td>\n",
       "    </tr>\n",
       "    <tr>\n",
       "      <th>2</th>\n",
       "      <td>Carbohydrate metabolism</td>\n",
       "      <td>358</td>\n",
       "      <td>15.0</td>\n",
       "    </tr>\n",
       "    <tr>\n",
       "      <th>3</th>\n",
       "      <td>Nucleotide metabolism</td>\n",
       "      <td>296</td>\n",
       "      <td>16.0</td>\n",
       "    </tr>\n",
       "    <tr>\n",
       "      <th>4</th>\n",
       "      <td>Transport</td>\n",
       "      <td>292</td>\n",
       "      <td>509.0</td>\n",
       "    </tr>\n",
       "  </tbody>\n",
       "</table>\n",
       "</div>"
      ],
      "text/plain": [
       "                 path_name  path_gene  path_nogene\n",
       "0         Lipid metabolism       6306         40.0\n",
       "1    Amino acid metabolism        495         18.0\n",
       "2  Carbohydrate metabolism        358         15.0\n",
       "3    Nucleotide metabolism        296         16.0\n",
       "4                Transport        292        509.0"
      ]
     },
     "execution_count": 29,
     "metadata": {},
     "output_type": "execute_result"
    }
   ],
   "source": [
    "df_path_counts.head()"
   ]
  },
  {
   "cell_type": "code",
   "execution_count": 30,
   "metadata": {},
   "outputs": [],
   "source": [
    "df_path_counts = pd.merge(df_path_counts_all, df_path_counts, on='path_name', how='left')"
   ]
  },
  {
   "cell_type": "code",
   "execution_count": 31,
   "metadata": {
    "scrolled": false
   },
   "outputs": [
    {
     "data": {
      "text/html": [
       "<div>\n",
       "<style scoped>\n",
       "    .dataframe tbody tr th:only-of-type {\n",
       "        vertical-align: middle;\n",
       "    }\n",
       "\n",
       "    .dataframe tbody tr th {\n",
       "        vertical-align: top;\n",
       "    }\n",
       "\n",
       "    .dataframe thead th {\n",
       "        text-align: right;\n",
       "    }\n",
       "</style>\n",
       "<table border=\"1\" class=\"dataframe\">\n",
       "  <thead>\n",
       "    <tr style=\"text-align: right;\">\n",
       "      <th></th>\n",
       "      <th>path_name</th>\n",
       "      <th>path</th>\n",
       "      <th>path_gene</th>\n",
       "      <th>path_nogene</th>\n",
       "    </tr>\n",
       "  </thead>\n",
       "  <tbody>\n",
       "    <tr>\n",
       "      <th>0</th>\n",
       "      <td>Lipid metabolism</td>\n",
       "      <td>6346</td>\n",
       "      <td>6306</td>\n",
       "      <td>40.0</td>\n",
       "    </tr>\n",
       "    <tr>\n",
       "      <th>1</th>\n",
       "      <td>Transport</td>\n",
       "      <td>801</td>\n",
       "      <td>292</td>\n",
       "      <td>509.0</td>\n",
       "    </tr>\n",
       "    <tr>\n",
       "      <th>2</th>\n",
       "      <td>Amino acid metabolism</td>\n",
       "      <td>513</td>\n",
       "      <td>495</td>\n",
       "      <td>18.0</td>\n",
       "    </tr>\n",
       "    <tr>\n",
       "      <th>3</th>\n",
       "      <td>Exchange</td>\n",
       "      <td>485</td>\n",
       "      <td>45</td>\n",
       "      <td>440.0</td>\n",
       "    </tr>\n",
       "    <tr>\n",
       "      <th>4</th>\n",
       "      <td>Carbohydrate metabolism</td>\n",
       "      <td>373</td>\n",
       "      <td>358</td>\n",
       "      <td>15.0</td>\n",
       "    </tr>\n",
       "    <tr>\n",
       "      <th>5</th>\n",
       "      <td>Nucleotide metabolism</td>\n",
       "      <td>312</td>\n",
       "      <td>296</td>\n",
       "      <td>16.0</td>\n",
       "    </tr>\n",
       "    <tr>\n",
       "      <th>6</th>\n",
       "      <td>Metabolism of cofactors and vitamins</td>\n",
       "      <td>241</td>\n",
       "      <td>239</td>\n",
       "      <td>2.0</td>\n",
       "    </tr>\n",
       "    <tr>\n",
       "      <th>7</th>\n",
       "      <td>Energy metabolism</td>\n",
       "      <td>150</td>\n",
       "      <td>130</td>\n",
       "      <td>20.0</td>\n",
       "    </tr>\n",
       "    <tr>\n",
       "      <th>8</th>\n",
       "      <td>Metabolism of terpenoids and polyketides</td>\n",
       "      <td>56</td>\n",
       "      <td>56</td>\n",
       "      <td>0.0</td>\n",
       "    </tr>\n",
       "    <tr>\n",
       "      <th>9</th>\n",
       "      <td>Unassigned</td>\n",
       "      <td>44</td>\n",
       "      <td>37</td>\n",
       "      <td>7.0</td>\n",
       "    </tr>\n",
       "    <tr>\n",
       "      <th>10</th>\n",
       "      <td>Glycolysis / Gluconeogenesis</td>\n",
       "      <td>41</td>\n",
       "      <td>41</td>\n",
       "      <td>0.0</td>\n",
       "    </tr>\n",
       "    <tr>\n",
       "      <th>11</th>\n",
       "      <td>TCA Cycle</td>\n",
       "      <td>37</td>\n",
       "      <td>36</td>\n",
       "      <td>1.0</td>\n",
       "    </tr>\n",
       "    <tr>\n",
       "      <th>12</th>\n",
       "      <td>Pentose phosphate pathway</td>\n",
       "      <td>34</td>\n",
       "      <td>34</td>\n",
       "      <td>0.0</td>\n",
       "    </tr>\n",
       "    <tr>\n",
       "      <th>13</th>\n",
       "      <td>Glycan biosynthesis and metabolism</td>\n",
       "      <td>23</td>\n",
       "      <td>23</td>\n",
       "      <td>0.0</td>\n",
       "    </tr>\n",
       "    <tr>\n",
       "      <th>14</th>\n",
       "      <td>Nitrogen metabolism</td>\n",
       "      <td>15</td>\n",
       "      <td>15</td>\n",
       "      <td>0.0</td>\n",
       "    </tr>\n",
       "    <tr>\n",
       "      <th>15</th>\n",
       "      <td>Urea cycle</td>\n",
       "      <td>12</td>\n",
       "      <td>12</td>\n",
       "      <td>0.0</td>\n",
       "    </tr>\n",
       "    <tr>\n",
       "      <th>16</th>\n",
       "      <td>Xenobiotics biodegradation and metabolism</td>\n",
       "      <td>9</td>\n",
       "      <td>9</td>\n",
       "      <td>0.0</td>\n",
       "    </tr>\n",
       "  </tbody>\n",
       "</table>\n",
       "</div>"
      ],
      "text/plain": [
       "                                    path_name  path  path_gene  path_nogene\n",
       "0                            Lipid metabolism  6346       6306         40.0\n",
       "1                                   Transport   801        292        509.0\n",
       "2                       Amino acid metabolism   513        495         18.0\n",
       "3                                    Exchange   485         45        440.0\n",
       "4                     Carbohydrate metabolism   373        358         15.0\n",
       "5                       Nucleotide metabolism   312        296         16.0\n",
       "6        Metabolism of cofactors and vitamins   241        239          2.0\n",
       "7                           Energy metabolism   150        130         20.0\n",
       "8    Metabolism of terpenoids and polyketides    56         56          0.0\n",
       "9                                  Unassigned    44         37          7.0\n",
       "10               Glycolysis / Gluconeogenesis    41         41          0.0\n",
       "11                                  TCA Cycle    37         36          1.0\n",
       "12                  Pentose phosphate pathway    34         34          0.0\n",
       "13         Glycan biosynthesis and metabolism    23         23          0.0\n",
       "14                        Nitrogen metabolism    15         15          0.0\n",
       "15                                 Urea cycle    12         12          0.0\n",
       "16  Xenobiotics biodegradation and metabolism     9          9          0.0"
      ]
     },
     "execution_count": 31,
     "metadata": {},
     "output_type": "execute_result"
    }
   ],
   "source": [
    "df_path_counts"
   ]
  },
  {
   "cell_type": "code",
   "execution_count": 32,
   "metadata": {},
   "outputs": [
    {
     "data": {
      "text/plain": [
       "array(['Lipid metabolism', 'Transport', 'Amino acid metabolism',\n",
       "       'Exchange', 'Carbohydrate metabolism', 'Nucleotide metabolism',\n",
       "       'Metabolism of cofactors and vitamins', 'Energy metabolism',\n",
       "       'Metabolism of terpenoids and polyketides', 'Unassigned',\n",
       "       'Glycolysis / Gluconeogenesis', 'TCA Cycle',\n",
       "       'Pentose phosphate pathway', 'Glycan biosynthesis and metabolism',\n",
       "       'Nitrogen metabolism', 'Urea cycle',\n",
       "       'Xenobiotics biodegradation and metabolism'], dtype=object)"
      ]
     },
     "execution_count": 32,
     "metadata": {},
     "output_type": "execute_result"
    }
   ],
   "source": [
    "df_path_counts.path_name.unique()"
   ]
  },
  {
   "cell_type": "code",
   "execution_count": 33,
   "metadata": {},
   "outputs": [
    {
     "data": {
      "text/plain": [
       "0.7465019350997321"
      ]
     },
     "execution_count": 33,
     "metadata": {},
     "output_type": "execute_result"
    }
   ],
   "source": [
    "# lipid metabpism + amino acid \n",
    "(4579+436)/6718"
   ]
  },
  {
   "cell_type": "code",
   "execution_count": 38,
   "metadata": {
    "scrolled": false
   },
   "outputs": [
    {
     "name": "stderr",
     "output_type": "stream",
     "text": [
      "/home/manish/anaconda2/envs/rstudio/lib/python3.7/site-packages/brokenaxes.py:294 \u001b[1;31mUserWarning\u001b[0m: FixedFormatter should only be used together with FixedLocator\n"
     ]
    },
    {
     "data": {
      "image/png": "[encoded data removed]",
      "text/plain": [
       "<Figure size 648x504 with 3 Axes>"
      ]
     },
     "metadata": {},
     "output_type": "display_data"
    }
   ],
   "source": [
    "labels = list(df_path_counts.path_name)\n",
    "path_gene = list(df_path_counts.path_gene)\n",
    "path_nogene = list(df_path_counts.path_nogene)\n",
    "plt.figure(figsize=(9,7))\n",
    "width = 0.35       # the width of the bars: can also be len(x) sequence\n",
    "\n",
    "#fig, bax = plt.subplots()\n",
    "\n",
    "bax = brokenaxes(xlims=((0, 500), (4500, 4600)), \n",
    "                 #hspace=.05,\n",
    "                 wspace=0.05\n",
    "                 )\n",
    "#bax.hist(x, histtype='bar')\n",
    "bax.barh(labels, path_gene, width, label='Gene associated reactions', color='#2c7fb8')\n",
    "bax.barh(labels, path_nogene, width, left=path_gene,\n",
    "       label='Non-gene associated reactions',color ='#c6dbef')\n",
    "bax.set_yticks(np.arange(len(labels)))\n",
    "bax.set_yticklabels(labels)\n",
    "bax.invert_yaxis()\n",
    "\n",
    "bax.set_ylabel('Pathways')\n",
    "bax.set_xlabel('Count')\n",
    "#bax.set_title('Scores by group and gender')\n",
    "bax.legend(loc= 'lower right')\n",
    "plt.rcParams['svg.fonttype'] = 'none'\n",
    "plt.savefig('./script13_data/rxns_genes_nongenes_path_bar_18.05.svg')\n",
    "plt.show()"
   ]
  },
  {
   "cell_type": "code",
   "execution_count": 39,
   "metadata": {},
   "outputs": [
    {
     "data": {
      "text/plain": [
       "'/home/manish/manish@phd2009.iitgn.ac.in/postdoc_ucsd/projects/1_cylindrotheca/gem_cyl/other_photosynthetic_models/round_02/analysis_plots_v02'"
      ]
     },
     "execution_count": 39,
     "metadata": {},
     "output_type": "execute_result"
    }
   ],
   "source": [
    "pwd"
   ]
  },
  {
   "cell_type": "markdown",
   "metadata": {},
   "source": [
    "### rxns compartment-wise"
   ]
  },
  {
   "cell_type": "code",
   "execution_count": 81,
   "metadata": {},
   "outputs": [],
   "source": [
    "df_rxns = df_subs_path.copy()"
   ]
  },
  {
   "cell_type": "code",
   "execution_count": 82,
   "metadata": {},
   "outputs": [],
   "source": [
    "# REMOVE TRANSPORT REACTIONS\n",
    "#df_rxns = df_rxns[df_rxns.path!='Transport'].reset_index(drop=True)"
   ]
  },
  {
   "cell_type": "code",
   "execution_count": 83,
   "metadata": {},
   "outputs": [],
   "source": [
    "df_rxns.comp = df_rxns.comp.astype('str')"
   ]
  },
  {
   "cell_type": "code",
   "execution_count": 84,
   "metadata": {},
   "outputs": [
    {
     "data": {
      "text/html": [
       "<div>\n",
       "<style scoped>\n",
       "    .dataframe tbody tr th:only-of-type {\n",
       "        vertical-align: middle;\n",
       "    }\n",
       "\n",
       "    .dataframe tbody tr th {\n",
       "        vertical-align: top;\n",
       "    }\n",
       "\n",
       "    .dataframe thead th {\n",
       "        text-align: right;\n",
       "    }\n",
       "</style>\n",
       "<table border=\"1\" class=\"dataframe\">\n",
       "  <thead>\n",
       "    <tr style=\"text-align: right;\">\n",
       "      <th></th>\n",
       "      <th>rxn</th>\n",
       "      <th>gpr</th>\n",
       "      <th>subs</th>\n",
       "      <th>comp</th>\n",
       "      <th>path</th>\n",
       "    </tr>\n",
       "  </thead>\n",
       "  <tbody>\n",
       "    <tr>\n",
       "      <th>0</th>\n",
       "      <td>IDP_h</td>\n",
       "      <td>CylT023618-RA or CylT000852-RA</td>\n",
       "      <td>Oxidative phosphorylation</td>\n",
       "      <td>{'h'}</td>\n",
       "      <td>Energy metabolism</td>\n",
       "    </tr>\n",
       "    <tr>\n",
       "      <th>1</th>\n",
       "      <td>PPAm</td>\n",
       "      <td>CylT023618-RA or CylT000852-RA</td>\n",
       "      <td>Oxidative phosphorylation</td>\n",
       "      <td>{'m'}</td>\n",
       "      <td>Energy metabolism</td>\n",
       "    </tr>\n",
       "    <tr>\n",
       "      <th>2</th>\n",
       "      <td>THD1m</td>\n",
       "      <td>CylT009889-RA or CylT004640-RA or CylT011104-R...</td>\n",
       "      <td>Cofactor biosynthesis: Nicotinate and Nicotina...</td>\n",
       "      <td>{'m', 'c'}</td>\n",
       "      <td>Metabolism of cofactors and vitamins</td>\n",
       "    </tr>\n",
       "    <tr>\n",
       "      <th>3</th>\n",
       "      <td>GLTS_h</td>\n",
       "      <td>CylT008216-RA</td>\n",
       "      <td>Amino acid metabolism: Alanine, Aspartate and ...</td>\n",
       "      <td>{'h'}</td>\n",
       "      <td>Amino acid metabolism</td>\n",
       "    </tr>\n",
       "    <tr>\n",
       "      <th>4</th>\n",
       "      <td>GALh</td>\n",
       "      <td>CylT007035-RA or CylT028408-RA</td>\n",
       "      <td>Amino acid metabolism: Alanine, Aspartate and ...</td>\n",
       "      <td>{'h'}</td>\n",
       "      <td>Amino acid metabolism</td>\n",
       "    </tr>\n",
       "  </tbody>\n",
       "</table>\n",
       "</div>"
      ],
      "text/plain": [
       "      rxn                                                gpr  \\\n",
       "0   IDP_h                     CylT023618-RA or CylT000852-RA   \n",
       "1    PPAm                     CylT023618-RA or CylT000852-RA   \n",
       "2   THD1m  CylT009889-RA or CylT004640-RA or CylT011104-R...   \n",
       "3  GLTS_h                                      CylT008216-RA   \n",
       "4    GALh                     CylT007035-RA or CylT028408-RA   \n",
       "\n",
       "                                                subs        comp  \\\n",
       "0                          Oxidative phosphorylation       {'h'}   \n",
       "1                          Oxidative phosphorylation       {'m'}   \n",
       "2  Cofactor biosynthesis: Nicotinate and Nicotina...  {'m', 'c'}   \n",
       "3  Amino acid metabolism: Alanine, Aspartate and ...       {'h'}   \n",
       "4  Amino acid metabolism: Alanine, Aspartate and ...       {'h'}   \n",
       "\n",
       "                                   path  \n",
       "0                     Energy metabolism  \n",
       "1                     Energy metabolism  \n",
       "2  Metabolism of cofactors and vitamins  \n",
       "3                 Amino acid metabolism  \n",
       "4                 Amino acid metabolism  "
      ]
     },
     "execution_count": 84,
     "metadata": {},
     "output_type": "execute_result"
    }
   ],
   "source": [
    "df_rxns.head()"
   ]
  },
  {
   "cell_type": "code",
   "execution_count": 85,
   "metadata": {
    "code_folding": [
     0
    ]
   },
   "outputs": [],
   "source": [
    "def count_rxns_compartment(data):\n",
    "    #COUNT REACTIONS IN COMPARTMENTS\n",
    "    df_rxns_all = data.groupby(['comp'])['rxn'].count().to_frame(name ='rxn_count').reset_index()\n",
    "\n",
    "    df_rxns_all.comp = df_rxns_all.comp.str.replace('{', '')\n",
    "    df_rxns_all.comp = df_rxns_all.comp.str.replace('}', '')\n",
    "\n",
    "    # COUNT REACTIONS IN EACH COMPARTMENT IN CASE THE REACTION IS INVOLVED IN MORE THAN \n",
    "    # ONE COMPARTMENT INCLUDING TRANSPORT REACTIONS\n",
    "    df_rxns_all_temp = df_rxns_all.comp.str.split(pat = \",\", expand=True)\n",
    "    if len(df_rxns_all_temp.columns) == 4:\n",
    "        df_rxns_all_temp.columns = ['comp1','comp2','comp3','comp4']\n",
    "    elif len(df_rxns_all_temp.columns) == 3:\n",
    "        df_rxns_all_temp.columns = ['comp1','comp2','comp3']\n",
    "    elif len(df_rxns_all_temp.columns) == 2:\n",
    "        df_rxns_all_temp.columns = ['comp1','comp2']\n",
    "    elif len(df_rxns_all_temp.columns) == 1:\n",
    "        df_rxns_all_temp.columns = ['comp1']\n",
    "\n",
    "    df_rxns_all_temp['rxn_count'] = df_rxns_all.rxn_count\n",
    "\n",
    "    comp_temp = []\n",
    "    for i, col in enumerate(df_rxns_all_temp.columns):\n",
    "        if (col != 'comp1') & (col !='rxn_count'):\n",
    "            indx_temp = list(df_rxns_all_temp[df_rxns_all_temp[col].notna()].index)\n",
    "            for j, ind in enumerate(indx_temp):\n",
    "                comp_temp.append((df_rxns_all_temp[col].iloc[ind], \n",
    "                              df_rxns_all_temp['rxn_count'].iloc[ind]))\n",
    "    df_extr_comp = pd.DataFrame(comp_temp, columns=['comp', 'rxn_count'])\n",
    "\n",
    "    df_rxns_all_temp1 = df_rxns_all_temp[['comp1', 'rxn_count']]\n",
    "    df_rxns_all_temp1 = df_rxns_all_temp1.rename(columns={'comp1':'comp'})\n",
    "\n",
    "    df_rxns_all_temp1 = pd.concat([df_rxns_all_temp1, df_extr_comp], axis=0).reset_index(drop=True)\n",
    "\n",
    "    df_rxns_all_temp1.comp = df_rxns_all_temp1.comp.astype('str')\n",
    "    df_rxns_all_temp1.comp = df_rxns_all_temp1.comp.str.replace(' ', '')\n",
    "\n",
    "    #RECOUNT THE REACTINS IN COMPARTMENTS\n",
    "    df_comp = df_rxns_all_temp1.groupby(['comp']).sum().reset_index()\n",
    "\n",
    "    for i, comp in enumerate(df_comp.comp):\n",
    "        if comp == \"'c'\":\n",
    "            df_comp.comp.iloc[i] = 'Cytosol'\n",
    "        elif comp == \"'e'\":\n",
    "            df_comp.comp.iloc[i] = 'Extracellular space'\n",
    "        elif comp == \"'p'\":\n",
    "            df_comp.comp.iloc[i] = 'Periplasm'\n",
    "        elif comp == \"'h'\":\n",
    "            df_comp.comp.iloc[i] = 'Chloroplast'\n",
    "        elif comp == \"'m'\":\n",
    "            df_comp.comp.iloc[i] = 'Mitochondria'\n",
    "        elif comp == \"'x'\":\n",
    "            df_comp.comp.iloc[i] = 'Peroxisome/glyoxysome'\n",
    "        elif comp == \"'u'\":\n",
    "            df_comp.comp.iloc[i] = 'Thylakoid'\n",
    "    return df_comp\n",
    "        "
   ]
  },
  {
   "cell_type": "code",
   "execution_count": 86,
   "metadata": {},
   "outputs": [],
   "source": [
    "# COUNT RXNS IN COMPARTMENTS BASED ON GENE AND NON-GENE ASSOCIATED RXNS\n",
    "df_rxns_gene = df_rxns[df_rxns.gpr != ''].reset_index(drop=True)\n",
    "df_rxns__nogene = df_rxns[df_rxns.gpr == ''].reset_index(drop=True)"
   ]
  },
  {
   "cell_type": "code",
   "execution_count": 87,
   "metadata": {},
   "outputs": [
    {
     "name": "stderr",
     "output_type": "stream",
     "text": [
      "/home/manish/anaconda2/envs/rstudio/lib/python3.7/site-packages/ipykernel_launcher.py:5 \u001b[1;31mFutureWarning\u001b[0m: The default value of regex will change from True to False in a future version. In addition, single character regular expressions will *not* be treated as literal strings when regex=True.\n",
      "/home/manish/anaconda2/envs/rstudio/lib/python3.7/site-packages/ipykernel_launcher.py:6 \u001b[1;31mFutureWarning\u001b[0m: The default value of regex will change from True to False in a future version. In addition, single character regular expressions will *not* be treated as literal strings when regex=True.\n"
     ]
    }
   ],
   "source": [
    "df_comp_all = count_rxns_compartment(data=df_rxns)\n",
    "df_comp_gene = count_rxns_compartment(data=df_rxns_gene)\n",
    "df_comp_nogene = count_rxns_compartment(data=df_rxns__nogene)"
   ]
  },
  {
   "cell_type": "code",
   "execution_count": 88,
   "metadata": {},
   "outputs": [],
   "source": [
    "df_comp = pd.merge(df_comp_all, df_comp_gene, on='comp', how='left', suffixes=('_all', '_gene'))"
   ]
  },
  {
   "cell_type": "code",
   "execution_count": 89,
   "metadata": {},
   "outputs": [],
   "source": [
    "df_comp = pd.merge(df_comp, df_comp_nogene, on='comp', how='left')"
   ]
  },
  {
   "cell_type": "code",
   "execution_count": 90,
   "metadata": {},
   "outputs": [],
   "source": [
    "df_comp = df_comp.rename(columns={'rxn_count':'rxn_count_nogene'})"
   ]
  },
  {
   "cell_type": "code",
   "execution_count": 91,
   "metadata": {},
   "outputs": [],
   "source": [
    "df_comp =df_comp.sort_values(by='rxn_count_all', ascending=False)"
   ]
  },
  {
   "cell_type": "code",
   "execution_count": 92,
   "metadata": {},
   "outputs": [
    {
     "data": {
      "text/html": [
       "<div>\n",
       "<style scoped>\n",
       "    .dataframe tbody tr th:only-of-type {\n",
       "        vertical-align: middle;\n",
       "    }\n",
       "\n",
       "    .dataframe tbody tr th {\n",
       "        vertical-align: top;\n",
       "    }\n",
       "\n",
       "    .dataframe thead th {\n",
       "        text-align: right;\n",
       "    }\n",
       "</style>\n",
       "<table border=\"1\" class=\"dataframe\">\n",
       "  <thead>\n",
       "    <tr style=\"text-align: right;\">\n",
       "      <th></th>\n",
       "      <th>comp</th>\n",
       "      <th>rxn_count_all</th>\n",
       "      <th>rxn_count_gene</th>\n",
       "      <th>rxn_count_nogene</th>\n",
       "    </tr>\n",
       "  </thead>\n",
       "  <tbody>\n",
       "    <tr>\n",
       "      <th>0</th>\n",
       "      <td>Cytosol</td>\n",
       "      <td>5051</td>\n",
       "      <td>4679</td>\n",
       "      <td>372</td>\n",
       "    </tr>\n",
       "    <tr>\n",
       "      <th>2</th>\n",
       "      <td>Chloroplast</td>\n",
       "      <td>880</td>\n",
       "      <td>755</td>\n",
       "      <td>125</td>\n",
       "    </tr>\n",
       "    <tr>\n",
       "      <th>3</th>\n",
       "      <td>Mitochondria</td>\n",
       "      <td>641</td>\n",
       "      <td>554</td>\n",
       "      <td>87</td>\n",
       "    </tr>\n",
       "    <tr>\n",
       "      <th>1</th>\n",
       "      <td>Extracellular space</td>\n",
       "      <td>389</td>\n",
       "      <td>81</td>\n",
       "      <td>308</td>\n",
       "    </tr>\n",
       "    <tr>\n",
       "      <th>4</th>\n",
       "      <td>Periplasm</td>\n",
       "      <td>203</td>\n",
       "      <td>34</td>\n",
       "      <td>169</td>\n",
       "    </tr>\n",
       "    <tr>\n",
       "      <th>6</th>\n",
       "      <td>Peroxisome/glyoxysome</td>\n",
       "      <td>181</td>\n",
       "      <td>166</td>\n",
       "      <td>15</td>\n",
       "    </tr>\n",
       "    <tr>\n",
       "      <th>5</th>\n",
       "      <td>Thylakoid</td>\n",
       "      <td>37</td>\n",
       "      <td>16</td>\n",
       "      <td>21</td>\n",
       "    </tr>\n",
       "  </tbody>\n",
       "</table>\n",
       "</div>"
      ],
      "text/plain": [
       "                    comp  rxn_count_all  rxn_count_gene  rxn_count_nogene\n",
       "0                Cytosol           5051            4679               372\n",
       "2            Chloroplast            880             755               125\n",
       "3           Mitochondria            641             554                87\n",
       "1    Extracellular space            389              81               308\n",
       "4              Periplasm            203              34               169\n",
       "6  Peroxisome/glyoxysome            181             166                15\n",
       "5              Thylakoid             37              16                21"
      ]
     },
     "execution_count": 92,
     "metadata": {},
     "output_type": "execute_result"
    }
   ],
   "source": [
    "df_comp"
   ]
  },
  {
   "cell_type": "code",
   "execution_count": 93,
   "metadata": {},
   "outputs": [
    {
     "data": {
      "text/plain": [
       "0    68.423192\n",
       "2    11.920889\n",
       "3     8.683284\n",
       "1     5.269575\n",
       "4     2.749932\n",
       "6     2.451910\n",
       "5     0.501219\n",
       "Name: rxn_count_all, dtype: float64"
      ]
     },
     "execution_count": 93,
     "metadata": {},
     "output_type": "execute_result"
    }
   ],
   "source": [
    "df_comp.rxn_count_all/df_comp.rxn_count_all.sum()*100"
   ]
  },
  {
   "cell_type": "code",
   "execution_count": 116,
   "metadata": {
    "scrolled": false
   },
   "outputs": [
    {
     "name": "stderr",
     "output_type": "stream",
     "text": [
      "/home/manish/anaconda2/envs/rstudio/lib/python3.7/site-packages/brokenaxes.py:294 \u001b[1;31mUserWarning\u001b[0m: FixedFormatter should only be used together with FixedLocator\n"
     ]
    },
    {
     "data": {
      "image/png": "[encoded data removed]",
      "text/plain": [
       "<Figure size 504x216 with 3 Axes>"
      ]
     },
     "metadata": {},
     "output_type": "display_data"
    }
   ],
   "source": [
    "labels = list(df_comp.comp)\n",
    "comp_gene = list(df_comp.rxn_count_gene)\n",
    "comp_nogene = list(df_comp.rxn_count_nogene)\n",
    "plt.figure(figsize=(7,3))\n",
    "width = 0.35       # the width of the bars: can also be len(x) sequence\n",
    "\n",
    "#fig, bax = plt.subplots()\n",
    "\n",
    "bax = brokenaxes(xlims=((0, 1000), (4500, 5000)), \n",
    "                 #hspace=.05,\n",
    "                 wspace=0.05\n",
    "                 )\n",
    "#bax.hist(x, histtype='bar')\n",
    "bax.barh(labels, comp_gene, width, label='Gene associated reactions', color='#2c7fb8')\n",
    "bax.barh(labels, comp_nogene, width, left=comp_gene,\n",
    "       label='Non-gene associated reactions', color ='#c6dbef')\n",
    "bax.set_yticks(np.arange(len(labels)))\n",
    "bax.set_yticklabels(labels)\n",
    "bax.invert_yaxis()\n",
    "\n",
    "bax.set_ylabel('Compartments')\n",
    "bax.set_xlabel('Count')\n",
    "#bax.set_title('Scores by group and gender')\n",
    "bax.legend(loc= 'lower right')\n",
    "plt.rcParams['svg.fonttype'] = 'none'\n",
    "plt.savefig('./script13_data/rxns_genes_nongenes_comp_bar_18.05.svg')\n",
    "plt.show()"
   ]
  },
  {
   "cell_type": "markdown",
   "metadata": {},
   "source": [
    "- Transport reactions and reaction involve more than one compartment were count in both involved pathways"
   ]
  },
  {
   "cell_type": "markdown",
   "metadata": {},
   "source": [
    "## rxns added to draft model based on EC numbers"
   ]
  },
  {
   "cell_type": "code",
   "execution_count": 7,
   "metadata": {},
   "outputs": [],
   "source": [
    "# load model\n",
    "model_path = '/home/manish/manish@phd2009.iitgn.ac.in/postdoc_ucsd/projects/1_cylindrotheca/gem_cyl/other_photosynthetic_models/round_02/iMK_draft02.mat'\n",
    "model1 = cobra.io.load_matlab_model(model_path)"
   ]
  },
  {
   "cell_type": "code",
   "execution_count": 8,
   "metadata": {},
   "outputs": [],
   "source": [
    "# load model\n",
    "model_path = '/home/manish/manish@phd2009.iitgn.ac.in/postdoc_ucsd/projects/1_cylindrotheca/gem_cyl/other_photosynthetic_models/round_02/iMK_draft03.mat'\n",
    "model2 = cobra.io.load_matlab_model(model_path)"
   ]
  },
  {
   "cell_type": "code",
   "execution_count": 9,
   "metadata": {},
   "outputs": [],
   "source": [
    "# load model\n",
    "model_path = '/home/manish/manish@phd2009.iitgn.ac.in/postdoc_ucsd/projects/1_cylindrotheca/gem_cyl/other_photosynthetic_models/round_02/iMK_draft18.03.json'\n",
    "model_latest = cobra.io.load_json_model(model_path)"
   ]
  },
  {
   "cell_type": "code",
   "execution_count": 10,
   "metadata": {},
   "outputs": [],
   "source": [
    "#compare model before adding ec number rxns and after\n",
    "df_rxns, df_mets, df_genes = compare_two_models(model1=model1, model2=model2)"
   ]
  },
  {
   "cell_type": "markdown",
   "metadata": {},
   "source": [
    "**RXNS**"
   ]
  },
  {
   "cell_type": "code",
   "execution_count": 11,
   "metadata": {},
   "outputs": [],
   "source": [
    "# extact info of ec RXNS from latest model\n",
    "df_all_rxns = get_only_rxns_stat_from_model(model_latest)\n",
    "df_rxns_ec = pd.merge(df_rxns, df_all_rxns, on='rxns', how='left')\n",
    "df_rxns_ec = df_rxns_ec[df_rxns_ec.equation.notna()].reset_index(drop=True)\n",
    "df_rxns_ec =df_rxns_ec.drop(labels=['status_model1', 'status_model2'], axis=1)"
   ]
  },
  {
   "cell_type": "code",
   "execution_count": 12,
   "metadata": {
    "scrolled": true
   },
   "outputs": [
    {
     "data": {
      "text/plain": [
       "(581, 6)"
      ]
     },
     "execution_count": 12,
     "metadata": {},
     "output_type": "execute_result"
    }
   ],
   "source": [
    "df_rxns_ec.shape"
   ]
  },
  {
   "cell_type": "code",
   "execution_count": 14,
   "metadata": {},
   "outputs": [],
   "source": [
    "# save ec rxns for supplementry data\n",
    "df_rxns_ec_to_save = df_rxns_ec.copy()\n",
    "df_rxns_ec_to_save.columns = ['Reaction identifier', 'Reaction name', \n",
    "                               'GPR', 'Reaction', 'Subsystems', 'Compartments']\n",
    "    \n",
    "#df_rxns_ec_to_save.to_"
   ]
  },
  {
   "cell_type": "code",
   "execution_count": 15,
   "metadata": {},
   "outputs": [],
   "source": [
    "df_rxns_ec_to_save.to_excel('./script13_data/rxns_added_ec.xlsx')"
   ]
  },
  {
   "cell_type": "markdown",
   "metadata": {},
   "source": [
    "IN CASE OF UPDATE, DELETE THE SHEET FROM EXISTING EXCEL FILE THAN RUN NEXT CELL"
   ]
  },
  {
   "cell_type": "code",
   "execution_count": 19,
   "metadata": {},
   "outputs": [],
   "source": [
    "\n",
    "#suppl_path = '/home/manish/manish@phd2009.iitgn.ac.in/postdoc_ucsd/manuscripts/cyl_virus/supplemental_files/tables/'\n",
    "#file = os.path.join(suppl_path, 'supplementary_files_cyl.xlsx')\n",
    "#with pd.ExcelWriter(file, mode='w') as writer:  # doctest: +SKIP\n",
    "    #df_rxns_ec_to_save.to_excel(writer, sheet_name='rxns_ec')\n",
    " "
   ]
  },
  {
   "cell_type": "markdown",
   "metadata": {},
   "source": [
    "distribution of ec rxns among pathways/subsystems"
   ]
  },
  {
   "cell_type": "code",
   "execution_count": 36,
   "metadata": {},
   "outputs": [],
   "source": [
    "temp = df_rxns_ec.subs.value_counts().to_frame().reset_index(drop=False)\n",
    "temp.columns = ['subs', 'counts']"
   ]
  },
  {
   "cell_type": "code",
   "execution_count": 50,
   "metadata": {},
   "outputs": [
    {
     "name": "stdout",
     "output_type": "stream",
     "text": [
      "                                                                        subs  counts\n",
      "0                                                  Membrane Lipid Metabolism      33\n",
      "1                                                          Purine metabolism      31\n",
      "2                                             Glycerophospholipid Metabolism      31\n",
      "3                                 Cofactor and Prosthetic Group Biosynthesis      17\n",
      "4                                                 Cell Envelope Biosynthesis      17\n",
      "5                                                 Nucleotide Salvage Pathway      16\n",
      "6                                                                Nucleotides      15\n",
      "7                                   Glycine, serine and threonine metabolism      13\n",
      "8                                                      Fatty acid metabolism      12\n",
      "9                                                  Oxidative phosphorylation      11\n",
      "10                                Amino acid metabolism: Tyrosine metabolism      11\n",
      "11   Amino acid metabolism: Phenylalanine, Tyrosine, Tryptophan biosynthesis      11\n",
      "12                                                     Pyrimidine metabolism      11\n",
      "13                                               Alternate Carbon Metabolism      11\n",
      "14                                                       Cysteine metabolism      10\n",
      "15                                           Arginine and proline metabolism      10\n",
      "16                                                       Pyruvate metabolism      10\n",
      "17                                       Carbohydrates and related molecules       9\n",
      "18         Amino acid metabolism: Valine, Leucine and Isoleucine degradation       9\n",
      "19                                                Glycolysis/Gluconeogenesis       9\n",
      "20                                                Complex Alcohol Metabolism       8\n",
      "21                                          Alanine and Aspartate Metabolism       7\n",
      "22                                                 Citrate cycle (TCA cycle)       7\n",
      "23                                      Porphyrin and chlorophyll metabolism       7\n",
      "24                                                      Glutamate metabolism       7\n",
      "25                                        Fatty acid degradation, peroxisome       6\n",
      "26                                                     Methionine metabolism       6\n",
      "27                                                     Tryptophan metabolism       6\n",
      "28                                           Limonene and pinene degradation       6\n",
      "29                                                     Propanoate metabolism       6\n",
      "30                                Valine, Leucine, and Isoleucine Metabolism       5\n",
      "31                                                      Histidine metabolism       5\n",
      "32                                               Other Amino Acid Metabolism       5\n",
      "33                                                  Biosynthesis of steroids       5\n",
      "34                                                                    Lipids       5\n",
      "35                                                     B-Ketoadipate pathway       5\n",
      "36                                                     Fatty Acid Metabolism       4\n",
      "37                                                         Folate Metabolism       4\n",
      "38                                                 Pentose phosphate pathway       4\n",
      "39                                                     Riboflavin metabolism       4\n",
      "40                                                                                 4\n",
      "41                                                   Fatty acid biosynthesis       4\n",
      "42                                                           PHAs Metabolism       4\n",
      "43                                                          NAD Biosynthesis       3\n",
      "44                                Cofactor biosynthesis: Folate biosynthesis       3\n",
      "45                                                            Photosynthesis       3\n",
      "46                                           Drug metabolism - other enzymes       3\n",
      "47                                                       Thiamine Metabolism       3\n",
      "48                                                        ROS Detoxification       3\n",
      "49                                 Glycine, Serine, and Threonine Metabolism       3\n",
      "50                                                 One carbon pool by folate       3\n",
      "51                                                      Butanoate metabolism       3\n",
      "52                                                    Glycerolipid Synthesis       3\n",
      "53                    Biosynthesis of steroids: Terpenoid backbone synthesis       3\n",
      "54                                                   Glycerolipid metabolism       3\n",
      "55                                                                 Transport       3\n",
      "56                                                    Fatty Acid Degradation       3\n",
      "57                                                    Glutathione Metabolism       3\n",
      "58                                                  Peptidoglycan Metabolism       2\n",
      "59                                                   beta-Alanine metabolism       2\n",
      "60                    Amino acid metabolism: Arginine and proline metabolism       2\n",
      "61                                      Vitamins &amp; Cofactor Biosynthesis       2\n",
      "62                                         Drug metabolism - cytochrome P450       2\n",
      "63                                                Peptidoglycan Biosynthesis       2\n",
      "64                                         Amino acids and related molecules       2\n",
      "65                                         Pantothenate and CoA Biosynthesis       2\n",
      "66                                                     Glyoxylate metabolism       2\n",
      "67                                           Threonine and Lysine Metabolism       2\n",
      "68                                             Inositol phosphate metabolism       2\n",
      "69                                         Urea cycle/amino group metabolism       2\n",
      "70                                                  Methylglyoxal Metabolism       2\n",
      "71                                                    Cholesterol Metabolism       2\n",
      "72                                      Fatty acid degradation, mitochondria       2\n",
      "73                                                             tRNA charging       2\n",
      "74                                             Starch and sucrose metabolism       2\n",
      "75                                         Ascorbate and Aldarate Metabolism       2\n",
      "76                               Lipopolysaccharide Biosynthesis / Recycling       2\n",
      "77                                           Fructose and mannose metabolism       2\n",
      "78                                                       Nitrogen metabolism       2\n",
      "79                                                      Galactose metabolism       2\n",
      "80                                                                  Exchange       2\n",
      "81                        Amino acid metabolism: Aminoacyl-tRNA biosynthesis       2\n",
      "82                               Synthesis and degradation of Ketones Bodies       2\n",
      "83                                                  Transport, extracellular       2\n",
      "84           Amino acid metabolism: Glycine, serine and threonine metabolism       2\n",
      "85                                               Selenoamino acid metabolism       2\n",
      "86                                                       Sterol Biosynthesis       2\n",
      "87                                                         Sterol Metabolism       2\n",
      "88                                    Inorganic Ion Transport and Metabolism       1\n",
      "89                                                  Transport, Extracellular       1\n",
      "90                                                                Unassigned       1\n",
      "91                                                       Cofactor Metabolism       1\n",
      "92                                                   Sphingolipid metabolism       1\n",
      "93             Cofactor biosynthesis: Nicotinate and Nicotinamide metabolism       1\n",
      "94                                                        Proline Metabolism       1\n",
      "95                                                            Other function       1\n",
      "96                                                     Asparagine metabolism       1\n",
      "97                                            Vitamins Cofactor Biosynthesis       1\n",
      "98                                         Biomass and maintenance functions       1\n",
      "99                                                     Amino Acid Metabolism       1\n",
      "100                                                    N-Glycan biosynthesis       1\n",
      "101                                                         PHB byosynthesis       1\n",
      "102                                                 Phenylalanine metabolism       1\n",
      "103          Methionine metabolism;Urea cycle and metabolism of amino groups       1\n",
      "104                                                     Benzoate degradation       1\n",
      "105                                                  Aromatic Acid Breakdown       1\n",
      "106                                                     Arabinose Metabolism       1\n",
      "107                                                    Aminosugar Metabolism       1\n",
      "108                                                 Transport  Mitochondrial       1\n",
      "109                                 Pentose and Glucuronate Interconversions       1\n",
      "110                                    Fatty acid biosynthesis, mitochondria       1\n",
      "111                           Cofactor biosynthesis: Riboflavin biosynthesis       1\n",
      "112                                    Cysteine metabolism;Sulfur metabolism       1\n",
      "113                                                     Polyamine metabolism       1\n",
      "114                                            Nucleotides and nucleic acids       1\n",
      "115                                            Aromatic Compound degradation       1\n",
      "116                                                Modeling: ATP maintenance       1\n",
      "117                                   Nicotinate and nicotinamide metabolism       1\n",
      "118                                                     Vitamin A Metabolism       1\n",
      "119                                                  Carbohydrate Metabolism       1\n",
      "120                                                                   Others       1\n",
      "121                 Cofactor biosynthesis: Pantothenate and CoA biosynthesis       1\n",
      "122                                               1 2 Propanediol Catabolism       1\n",
      "123                                                 Transport, Mitochondrial       1\n",
      "124                                                     Phosphate and sulfur       1\n",
      "125                                          Transport, Outer Membrane Porin       1\n",
      "126                                                        Sulfur metabolism       1\n",
      "127                                                         Heme Degradation       1\n",
      "128                              Amino acid metabolism: Histidine metabolism       1\n",
      "129                                                        Energy Metabolism       1\n",
      "130                  Metabolism of other amino acids: Glutathione metabolism       1\n",
      "131                                                    Nucleotide Metabolism       1\n",
      "132                                   Calvin cycle/Pentose phosphate pathway       1\n",
      "133                                          Coenzymes and prosthetic groups       1\n",
      "134                                           Galactoglycerolipid metabolism       1\n",
      "135                                                         Redox Metabolism       1\n",
      "136      Biosynthesis of steroids: Ubiquinone/Terpenoid-quinone biosynthesis       1\n",
      "137                                                    Eicosanoid Metabolism       1\n",
      "138                                       Cysteine and methionine metabolism       1\n",
      "139                                  Biosynthesis of unsaturated fatty acids       1\n",
      "140                                                   Vitamin B12 Metabolism       1\n",
      "141       Amino acid metabolism: Valine, Leucine and Isoleucine biosynthesis       1\n",
      "142                     Alanine and Aspartate Metabolism;Nitrogen metabolism       1\n"
     ]
    }
   ],
   "source": [
    "print(temp.to_string())"
   ]
  },
  {
   "cell_type": "code",
   "execution_count": 38,
   "metadata": {},
   "outputs": [],
   "source": [
    "# LOAD PATHWAY DICTIONARY\n",
    "pathw_path = '/home/manish/manish@phd2009.iitgn.ac.in/postdoc_ucsd/projects/project_juan/metabolicMaps/pathways_manual.txt'\n",
    "df_path = pd.read_csv(pathw_path, sep='\\t', header=None)\n",
    "df_path.columns = ['subs', 'temp', 'path']\n",
    "df_path =df_path.drop(labels='temp', axis=1)"
   ]
  },
  {
   "cell_type": "code",
   "execution_count": 39,
   "metadata": {},
   "outputs": [],
   "source": [
    "df_subs_path = pd.merge(temp, df_path, on='subs', how='left')"
   ]
  },
  {
   "cell_type": "code",
   "execution_count": 40,
   "metadata": {},
   "outputs": [],
   "source": [
    "def refine_path(source, target):    \n",
    "    indx_temp = df_subs_path[df_subs_path.path == source].path.index\n",
    "    df_subs_path.path.iloc[indx_temp] = target\n",
    "    return df_subs_path"
   ]
  },
  {
   "cell_type": "code",
   "execution_count": 41,
   "metadata": {},
   "outputs": [],
   "source": [
    "df_subs_path = refine_path('Biomass', 'Not specified')\n",
    "df_subs_path = refine_path('Not specified' , 'Unassigned')\n"
   ]
  },
  {
   "cell_type": "code",
   "execution_count": 52,
   "metadata": {
    "scrolled": true
   },
   "outputs": [
    {
     "data": {
      "text/html": [
       "<div>\n",
       "<style scoped>\n",
       "    .dataframe tbody tr th:only-of-type {\n",
       "        vertical-align: middle;\n",
       "    }\n",
       "\n",
       "    .dataframe tbody tr th {\n",
       "        vertical-align: top;\n",
       "    }\n",
       "\n",
       "    .dataframe thead th {\n",
       "        text-align: right;\n",
       "    }\n",
       "</style>\n",
       "<table border=\"1\" class=\"dataframe\">\n",
       "  <thead>\n",
       "    <tr style=\"text-align: right;\">\n",
       "      <th></th>\n",
       "      <th>counts</th>\n",
       "    </tr>\n",
       "    <tr>\n",
       "      <th>path</th>\n",
       "      <th></th>\n",
       "    </tr>\n",
       "  </thead>\n",
       "  <tbody>\n",
       "    <tr>\n",
       "      <th>Lipid metabolism</th>\n",
       "      <td>151</td>\n",
       "    </tr>\n",
       "    <tr>\n",
       "      <th>Amino acid metabolism</th>\n",
       "      <td>136</td>\n",
       "    </tr>\n",
       "    <tr>\n",
       "      <th>Nucleotide metabolism</th>\n",
       "      <td>76</td>\n",
       "    </tr>\n",
       "    <tr>\n",
       "      <th>Metabolism of cofactors and vitamins</th>\n",
       "      <td>61</td>\n",
       "    </tr>\n",
       "    <tr>\n",
       "      <th>Carbohydrate metabolism</th>\n",
       "      <td>57</td>\n",
       "    </tr>\n",
       "    <tr>\n",
       "      <th>Unassigned</th>\n",
       "      <td>26</td>\n",
       "    </tr>\n",
       "    <tr>\n",
       "      <th>Energy metabolism</th>\n",
       "      <td>20</td>\n",
       "    </tr>\n",
       "    <tr>\n",
       "      <th>Transport</th>\n",
       "      <td>10</td>\n",
       "    </tr>\n",
       "    <tr>\n",
       "      <th>Xenobiotics biodegradation and metabolism</th>\n",
       "      <td>9</td>\n",
       "    </tr>\n",
       "    <tr>\n",
       "      <th>Glycolysis / Gluconeogenesis</th>\n",
       "      <td>9</td>\n",
       "    </tr>\n",
       "    <tr>\n",
       "      <th>TCA Cycle</th>\n",
       "      <td>7</td>\n",
       "    </tr>\n",
       "    <tr>\n",
       "      <th>Metabolism of terpenoids and polyketides</th>\n",
       "      <td>6</td>\n",
       "    </tr>\n",
       "    <tr>\n",
       "      <th>Glycan biosynthesis and metabolism</th>\n",
       "      <td>5</td>\n",
       "    </tr>\n",
       "    <tr>\n",
       "      <th>Pentose phosphate pathway</th>\n",
       "      <td>4</td>\n",
       "    </tr>\n",
       "    <tr>\n",
       "      <th>Nitrogen metabolism</th>\n",
       "      <td>2</td>\n",
       "    </tr>\n",
       "    <tr>\n",
       "      <th>Exchange</th>\n",
       "      <td>2</td>\n",
       "    </tr>\n",
       "    <tr>\n",
       "      <th>Urea cycle</th>\n",
       "      <td>2</td>\n",
       "    </tr>\n",
       "  </tbody>\n",
       "</table>\n",
       "</div>"
      ],
      "text/plain": [
       "                                           counts\n",
       "path                                             \n",
       "Lipid metabolism                              151\n",
       "Amino acid metabolism                         136\n",
       "Nucleotide metabolism                          76\n",
       "Metabolism of cofactors and vitamins           61\n",
       "Carbohydrate metabolism                        57\n",
       "Unassigned                                     26\n",
       "Energy metabolism                              20\n",
       "Transport                                      10\n",
       "Xenobiotics biodegradation and metabolism       9\n",
       "Glycolysis / Gluconeogenesis                    9\n",
       "TCA Cycle                                       7\n",
       "Metabolism of terpenoids and polyketides        6\n",
       "Glycan biosynthesis and metabolism              5\n",
       "Pentose phosphate pathway                       4\n",
       "Nitrogen metabolism                             2\n",
       "Exchange                                        2\n",
       "Urea cycle                                      2"
      ]
     },
     "execution_count": 52,
     "metadata": {},
     "output_type": "execute_result"
    }
   ],
   "source": [
    "df_subs_path.groupby(['path']).sum().sort_values(by='counts', ascending=False)"
   ]
  },
  {
   "cell_type": "markdown",
   "metadata": {},
   "source": [
    "**METS** - only use the numbers"
   ]
  },
  {
   "cell_type": "code",
   "execution_count": 20,
   "metadata": {},
   "outputs": [],
   "source": [
    "# extact info of ec METS from latest model\n",
    "df_all_mets = get_only_mets_stat_from_model(model_latest)\n",
    "\n",
    "df_mets_ec = pd.merge(df_mets, df_all_mets, on='mets', how='left')\n",
    "df_mets_ec = df_mets_ec[df_mets_ec.met_name.notna()].reset_index(drop=True)\n",
    "df_mets_ec =df_mets_ec.drop(labels=['status_model1', 'status_model2'], axis=1)"
   ]
  },
  {
   "cell_type": "code",
   "execution_count": 21,
   "metadata": {},
   "outputs": [
    {
     "data": {
      "text/plain": [
       "(684, 2)"
      ]
     },
     "execution_count": 21,
     "metadata": {},
     "output_type": "execute_result"
    }
   ],
   "source": [
    "df_mets_ec.shape"
   ]
  },
  {
   "cell_type": "markdown",
   "metadata": {},
   "source": [
    "**GENES** - only use the numbers"
   ]
  },
  {
   "cell_type": "code",
   "execution_count": 24,
   "metadata": {},
   "outputs": [],
   "source": [
    "# extact info of ec GENES from latest model\n",
    "df_all_genes = get_only_genes_stat_from_model(model_latest)\n",
    "df_all_genes['status_model_latest'] = 'present'\n",
    "\n",
    "df_genes_ec = pd.merge(df_genes, df_all_genes, on='genes', how='left')\n",
    "df_genes_ec = df_genes_ec[df_genes_ec.status_model_latest.notna()].reset_index(drop=True)\n",
    "df_genes_ec =df_genes_ec.drop(labels=\n",
    "                             ['status_model1', 'status_model2', 'status_model_latest'], axis=1)"
   ]
  },
  {
   "cell_type": "code",
   "execution_count": 25,
   "metadata": {},
   "outputs": [
    {
     "data": {
      "text/plain": [
       "(389,)"
      ]
     },
     "execution_count": 25,
     "metadata": {},
     "output_type": "execute_result"
    }
   ],
   "source": [
    "df_genes_ec.genes.shape"
   ]
  },
  {
   "cell_type": "code",
   "execution_count": null,
   "metadata": {},
   "outputs": [],
   "source": []
  },
  {
   "cell_type": "markdown",
   "metadata": {},
   "source": [
    "## save rxns stat"
   ]
  },
  {
   "cell_type": "code",
   "execution_count": 15,
   "metadata": {},
   "outputs": [],
   "source": [
    "# load model\n",
    "model_path = '/home/manish/manish@phd2009.iitgn.ac.in/postdoc_ucsd/projects/1_cylindrotheca/gem_cyl/other_photosynthetic_models/round_02/iMK_draft18.05.json'\n",
    "model_save = cobra.io.load_json_model(model_path)"
   ]
  },
  {
   "cell_type": "code",
   "execution_count": 16,
   "metadata": {},
   "outputs": [],
   "source": [
    "df_rxns_save =get_only_rxns_stat_from_model(model_save)"
   ]
  },
  {
   "cell_type": "code",
   "execution_count": 17,
   "metadata": {},
   "outputs": [],
   "source": [
    "#df_rxns_save['gr_corrected'] =''"
   ]
  },
  {
   "cell_type": "code",
   "execution_count": 18,
   "metadata": {},
   "outputs": [
    {
     "data": {
      "text/plain": [
       "Index(['rxns', 'rxn_name', 'gr', 'equation', 'subs', 'comp'], dtype='object')"
      ]
     },
     "execution_count": 18,
     "metadata": {},
     "output_type": "execute_result"
    }
   ],
   "source": [
    "df_rxns_save.columns"
   ]
  },
  {
   "cell_type": "code",
   "execution_count": 19,
   "metadata": {},
   "outputs": [],
   "source": [
    "df_rxns_save =df_rxns_save[['rxns', 'rxn_name', 'gr', 'equation', 'subs', 'comp']]"
   ]
  },
  {
   "cell_type": "code",
   "execution_count": 21,
   "metadata": {},
   "outputs": [],
   "source": [
    "df_rxns_save.columns= ['Reaction identifier', 'Reaction name', 'Gene reaction rules',\n",
    "                      'Reaction', 'Subsystem', 'compartment']"
   ]
  },
  {
   "cell_type": "code",
   "execution_count": 22,
   "metadata": {},
   "outputs": [],
   "source": [
    "df_rxns_save.to_excel('/home/manish/manish@phd2009.iitgn.ac.in/postdoc_ucsd/projects/1_cylindrotheca/gem_cyl/other_photosynthetic_models/round_02/analysis_plots_v02/script13_data/model_cyl_stat_18.05.xlsx')"
   ]
  },
  {
   "cell_type": "code",
   "execution_count": 17,
   "metadata": {},
   "outputs": [
    {
     "data": {
      "text/plain": [
       "2304"
      ]
     },
     "execution_count": 17,
     "metadata": {},
     "output_type": "execute_result"
    }
   ],
   "source": [
    "len(model_save.genes)"
   ]
  },
  {
   "cell_type": "code",
   "execution_count": 19,
   "metadata": {},
   "outputs": [],
   "source": [
    "df_gene_temp = get_only_genes_stat_from_model(model_save)"
   ]
  },
  {
   "cell_type": "code",
   "execution_count": 21,
   "metadata": {},
   "outputs": [
    {
     "data": {
      "text/plain": [
       "2304"
      ]
     },
     "execution_count": 21,
     "metadata": {},
     "output_type": "execute_result"
    }
   ],
   "source": [
    "len(df_gene_temp.genes.unique())"
   ]
  },
  {
   "cell_type": "markdown",
   "metadata": {},
   "source": [
    "## save met stat"
   ]
  },
  {
   "cell_type": "code",
   "execution_count": 30,
   "metadata": {},
   "outputs": [],
   "source": [
    "df_met = get_only_mets_stat_from_model(model_save)\n",
    "\n",
    "df_met.columns = ['Identifier', 'Name', 'Formula', 'Compartment']\n",
    "\n",
    "df_met.to_excel('/home/manish/manish@phd2009.iitgn.ac.in/postdoc_ucsd/projects/1_cylindrotheca/gem_cyl/other_photosynthetic_models/round_02/analysis_plots_v02/script13_data/model_cyl_stat_met_18.05.xlsx')"
   ]
  },
  {
   "cell_type": "code",
   "execution_count": null,
   "metadata": {},
   "outputs": [],
   "source": [
    "# save unique list of metabolites\n"
   ]
  },
  {
   "cell_type": "code",
   "execution_count": 87,
   "metadata": {},
   "outputs": [],
   "source": [
    "df_met = get_only_mets_stat_from_model(model_save)\n",
    "\n",
    "df_met.columns = ['Identifier', 'Name', 'Formula', 'Compartment']"
   ]
  },
  {
   "cell_type": "code",
   "execution_count": 88,
   "metadata": {},
   "outputs": [],
   "source": [
    "df_met = df_met.drop_duplicates(subset='Name', keep='first').reset_index(drop=True)"
   ]
  },
  {
   "cell_type": "code",
   "execution_count": 89,
   "metadata": {},
   "outputs": [],
   "source": [
    "# remove compartments from met ids\n",
    "list_comp = ['\\_c$', '\\_x$', '\\_m$', '\\_h$', '\\_e$', '\\_u$', '\\_p$']\n",
    "for i, comp in enumerate(list_comp):\n",
    "    for j, met in enumerate(list(df_met.Identifier)):\n",
    "        \n",
    "        met_corrected = re.sub(comp, '', met)\n",
    "        df_met.Identifier.iloc[j] = met_corrected"
   ]
  },
  {
   "cell_type": "code",
   "execution_count": 90,
   "metadata": {},
   "outputs": [],
   "source": [
    "df_met = df_met.drop(labels='Compartment',axis=1)"
   ]
  },
  {
   "cell_type": "code",
   "execution_count": 91,
   "metadata": {},
   "outputs": [],
   "source": [
    "df_met.to_excel('/home/manish/manish@phd2009.iitgn.ac.in/postdoc_ucsd/projects/1_cylindrotheca/gem_cyl/other_photosynthetic_models/round_02/analysis_plots_v02/script13_data/model_cyl_stat_met_uniq_18.05.xlsx')"
   ]
  },
  {
   "cell_type": "code",
   "execution_count": null,
   "metadata": {},
   "outputs": [],
   "source": []
  },
  {
   "cell_type": "markdown",
   "metadata": {},
   "source": [
    "## save rxns added during gap-filling\n",
    "- Based on phenotypic experimental data"
   ]
  },
  {
   "cell_type": "code",
   "execution_count": 23,
   "metadata": {
    "code_folding": [
     0
    ]
   },
   "outputs": [],
   "source": [
    "def get_exchange_demand(model):\n",
    "    ex_rxns = []\n",
    "    for i, rxn in enumerate(model.reactions):\n",
    "        if (('EX_' in rxn.id) or ('DM_' in rxn.id)) and (rxn.id !='SPODM_h'):\n",
    "             for i, met in enumerate(rxn.metabolites):\n",
    "                ex_rxns.append((rxn.id, rxn.lower_bound, rxn.upper_bound, met.name))\n",
    "    df_ex_rxns = pd.DataFrame(ex_rxns, columns=['ex_rxn', 'lb', 'ub', 'met_name'])\n",
    "    return df_ex_rxns    "
   ]
  },
  {
   "cell_type": "code",
   "execution_count": 10,
   "metadata": {},
   "outputs": [],
   "source": [
    "# load model\n",
    "model_path = '/home/manish/manish@phd2009.iitgn.ac.in/postdoc_ucsd/projects/1_cylindrotheca/gem_cyl/other_photosynthetic_models/round_02/iMK_draft18.03.json'\n",
    "model = cobra.io.load_json_model(model_path)"
   ]
  },
  {
   "cell_type": "code",
   "execution_count": 80,
   "metadata": {
    "code_folding": [
     0
    ]
   },
   "outputs": [],
   "source": [
    "#list is from gap-filling script\n",
    "list_rxns1 =[['EX_rmn_e', 'exchange'],\n",
    "       ['RMNtex', 'transport'], ['RMNtpp', 'transport_inner'],\n",
    "       ['EX_gal_e', 'exchange'], ['GALtex', 'transport'],\n",
    "       ['GALt2pp', 'transport_inner'],\n",
    "       ['GLCtex', 'transport'], ['GLCt2pp', 'transport_inner'],\n",
    "       ['EX_xyl__D_e', 'exchange'], ['XYLtex', 'transport'],\n",
    "       ['XYLt2pp', 'transport_inner'], ['EX_man_e', 'exchange'],\n",
    "       ['MANtex', 'transport'], ['MANptspp', 'transport_inner'],\n",
    "       ['EX_galur_e', 'exchange'], ['GALURtex', 'transport'],\n",
    "       ['GALURt2rpp', 'transport_inner'], ['EX_glcur_e', 'exchange'],\n",
    "       ['GLCURtex', 'transport'], ['GLCURt2rpp', 'transport_inner'],\n",
    "       ['EX_arab__L_e', 'exchange'], ['ARBtex', 'transport'],\n",
    "       ['ARBt3ipp', 'transport_inner'], ['EX_fuc__L_e', 'exchange'], \n",
    "       ['FUCtex', 'transport'],['FUCtpp', 'transport_inner'],\n",
    "       ['EX_rib__D_e', 'exchange'], ['RIBtex', 'transport'],\n",
    "       ['RIBabcpp', 'transport_inner'], ['EX_glyc_e', 'exchange'],\n",
    "       ['GLYCtex', 'transport'], ['GLYCtpp', 'transport_inner'],\n",
    "       ['EX_ac_e', 'exchange'], ['ACtex', 'transport'],\n",
    "       ['ACt2rpp', 'transport_inner'], ['5DGLCNtex', 'transport'],\n",
    "        ['EX_his__L_e', 'exchange'], ['HIStex', 'transport'],\n",
    "        ['HISt2rpp', 'transport_inner'],\n",
    "        ['NOtex','transport'], ['NOtpp','transport_inner'],\n",
    "        ['NWHARGtd', 'transport']]"
   ]
  },
  {
   "cell_type": "code",
   "execution_count": 81,
   "metadata": {},
   "outputs": [],
   "source": [
    "df_rxns1 = pd.DataFrame(list_rxns1, columns=['rxn', 'type'])"
   ]
  },
  {
   "cell_type": "code",
   "execution_count": 82,
   "metadata": {},
   "outputs": [],
   "source": [
    "df_rxns1 =df_rxns1[['rxn']]"
   ]
  },
  {
   "cell_type": "code",
   "execution_count": 83,
   "metadata": {
    "code_folding": [
     1
    ]
   },
   "outputs": [],
   "source": [
    "#list is from gap-filling script\n",
    "list_rxns2 =['RMI',\n",
    " 'RMPA',\n",
    " 'LCADi',\n",
    " 'RMK',\n",
    " 'XYLK',\n",
    " 'GALCTD',\n",
    " 'GALURDH',\n",
    " '5DH4DGLCD',\n",
    " 'DOPDH',\n",
    " 'GLCRD',\n",
    " 'GLCURDH',\n",
    " 'RBK_L1',\n",
    " 'RBP4E',\n",
    " 'ARAI',\n",
    " 'ARBabcpp',\n",
    " 'FCI',\n",
    " 'FCLK',\n",
    " 'FCLPA',\n",
    " 'FORGLUIH2',\n",
    " 'HISDr',\n",
    " 'IZPN',\n",
    " 'NFORGLUAH2',\n",
    " 'URCN']"
   ]
  },
  {
   "cell_type": "code",
   "execution_count": 84,
   "metadata": {},
   "outputs": [],
   "source": [
    "df_rxns2 = pd.DataFrame(list_rxns2, columns=['rxn'])"
   ]
  },
  {
   "cell_type": "code",
   "execution_count": 85,
   "metadata": {},
   "outputs": [],
   "source": [
    "df_gp_fill_rxns = pd.concat([df_rxns1, df_rxns2]).reset_index(drop=True)"
   ]
  },
  {
   "cell_type": "code",
   "execution_count": 86,
   "metadata": {},
   "outputs": [],
   "source": [
    "rxns=[]\n",
    "for i,rxn in enumerate(model.reactions):\n",
    "    rxns.append((rxn.id, rxn.name, rxn.reaction, rxn.build_reaction_string(rxn.id)))\n",
    "df_rxns_model= pd.DataFrame(rxns, columns=['rxn', 'rxn_name',\n",
    "                                          'eqution', 'equation_met_names'])"
   ]
  },
  {
   "cell_type": "code",
   "execution_count": 87,
   "metadata": {
    "scrolled": true
   },
   "outputs": [],
   "source": [
    "df_gp_fill_rxns = df_rxns_model[df_rxns_model.rxn.isin(list(df_gp_fill_rxns.rxn))].reset_index(drop=True)"
   ]
  },
  {
   "cell_type": "code",
   "execution_count": 89,
   "metadata": {},
   "outputs": [],
   "source": [
    "df_gp_fill_rxns.columns=['Reaction identifier', 'Reaction name',\n",
    "                                          'Reaction', 'Reaction with metabolite names']"
   ]
  },
  {
   "cell_type": "code",
   "execution_count": 90,
   "metadata": {},
   "outputs": [],
   "source": [
    "#save rxns added during gap-filling\n",
    "df_gp_fill_rxns.to_excel('./script13_data/supple_rxns_added_gap_filling.xlsx')"
   ]
  },
  {
   "cell_type": "markdown",
   "metadata": {},
   "source": [
    "## save reactants in biomass reaction"
   ]
  },
  {
   "cell_type": "code",
   "execution_count": 7,
   "metadata": {},
   "outputs": [],
   "source": [
    "# load model\n",
    "model_path = '/home/manish/manish@phd2009.iitgn.ac.in/postdoc_ucsd/projects/1_cylindrotheca/gem_cyl/other_photosynthetic_models/round_02/iMK_draft18.05.json'\n",
    "model = cobra.io.load_json_model(model_path)"
   ]
  },
  {
   "cell_type": "code",
   "execution_count": 23,
   "metadata": {},
   "outputs": [],
   "source": [
    "met_biomass = []\n",
    "for i,met in enumerate(model.reactions.BOF_light.reactants):\n",
    "    stoi= model.reactions.BOF_light.get_coefficient(met)\n",
    "    met_biomass.append((met.name, met.id, stoi))\n",
    "df_met_biomass = pd.DataFrame(met_biomass, columns=['met_name', 'met_id', 'stoi'])\n",
    "\n",
    "df_met_biomass.columns = ['Metabolite', 'Metabolite identifier', 'Stoichiometric coefficient']"
   ]
  },
  {
   "cell_type": "code",
   "execution_count": 27,
   "metadata": {},
   "outputs": [],
   "source": [
    "df_met_biomass.to_excel('./script13_data/supple_biomass_mets.xlsx')"
   ]
  },
  {
   "cell_type": "code",
   "execution_count": 28,
   "metadata": {},
   "outputs": [],
   "source": [
    "met_biomass = []\n",
    "for i,met in enumerate(model.reactions.BOF_dark.reactants):\n",
    "    stoi= model.reactions.BOF_dark.get_coefficient(met)\n",
    "    met_biomass.append((met.name, met.id, stoi))\n",
    "df_met_biomass = pd.DataFrame(met_biomass, columns=['met_name', 'met_id', 'stoi'])\n",
    "\n",
    "df_met_biomass.columns = ['Metabolite', 'Metabolite identifier', 'Stoichiometric coefficient']"
   ]
  },
  {
   "cell_type": "code",
   "execution_count": 29,
   "metadata": {},
   "outputs": [],
   "source": [
    "df_met_biomass.to_excel('./script13_data/supple_biomass_dark_mets.xlsx')"
   ]
  },
  {
   "cell_type": "code",
   "execution_count": null,
   "metadata": {},
   "outputs": [],
   "source": []
  },
  {
   "cell_type": "code",
   "execution_count": null,
   "metadata": {},
   "outputs": [],
   "source": []
  },
  {
   "cell_type": "code",
   "execution_count": null,
   "metadata": {},
   "outputs": [],
   "source": []
  },
  {
   "cell_type": "code",
   "execution_count": null,
   "metadata": {},
   "outputs": [],
   "source": []
  },
  {
   "cell_type": "code",
   "execution_count": null,
   "metadata": {},
   "outputs": [],
   "source": []
  }
 ],
 "metadata": {
  "kernelspec": {
   "display_name": "Python 3",
   "language": "python",
   "name": "python3"
  },
  "language_info": {
   "codemirror_mode": {
    "name": "ipython",
    "version": 3
   },
   "file_extension": ".py",
   "mimetype": "text/x-python",
   "name": "python",
   "nbconvert_exporter": "python",
   "pygments_lexer": "ipython3",
   "version": "3.7.11"
  },
  "toc": {
   "base_numbering": 1,
   "nav_menu": {},
   "number_sections": true,
   "sideBar": true,
   "skip_h1_title": false,
   "title_cell": "Table of Contents",
   "title_sidebar": "Contents",
   "toc_cell": true,
   "toc_position": {
    "height": "calc(100% - 180px)",
    "left": "10px",
    "top": "150px",
    "width": "296.462px"
   },
   "toc_section_display": true,
   "toc_window_display": true
  }
 },
 "nbformat": 4,
 "nbformat_minor": 4
}
