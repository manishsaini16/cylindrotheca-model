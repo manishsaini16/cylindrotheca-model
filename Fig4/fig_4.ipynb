{
 "cells": [
  {
   "cell_type": "markdown",
   "id": "34da3d92",
   "metadata": {
    "toc": true
   },
   "source": [
    "<h1>Table of Contents<span class=\"tocSkip\"></span></h1>\n",
    "<div class=\"toc\"><ul class=\"toc-item\"></ul></div>"
   ]
  },
  {
   "cell_type": "code",
   "execution_count": 78,
   "id": "ad393b09",
   "metadata": {},
   "outputs": [],
   "source": [
    "# import packages needed\n",
    "import cobra\n",
    "from cobra.sampling import sample\n",
    "import pandas as pd\n",
    "import numpy as np\n",
    "pd.options.mode.chained_assignment = None\n",
    "import seaborn as sns\n",
    "import matplotlib\n",
    "import matplotlib.pyplot as plt\n",
    "import matplotlib.patches as mpatches\n",
    "from jupyterthemes import jtplot\n",
    "jtplot.style(theme='grade3', grid=False)"
   ]
  },
  {
   "cell_type": "code",
   "execution_count": 79,
   "id": "73f47adb",
   "metadata": {},
   "outputs": [],
   "source": [
    "#load differential flux data (binary)\n",
    "df_logFC_up_down = pd.read_excel('shared_subs_up_down.xlsx', index_col=0)"
   ]
  },
  {
   "cell_type": "code",
   "execution_count": 80,
   "id": "e69567f4",
   "metadata": {},
   "outputs": [],
   "source": [
    "df_logFC_up_down.index.name= 'Subsystems'\n",
    "df_logFC_up_down.up_down =df_logFC_up_down.up_down.replace('up', 'Increased Flux')\n",
    "df_logFC_up_down.up_down =df_logFC_up_down.up_down.replace('down', 'Decreased Flux')\n",
    "df_logFC_up_down.columns = ['CO2', 'HCO3', 'N02 + NO3',\n",
    "       'NO2', 'PO4', 'Si', 'up_down']"
   ]
  },
  {
   "cell_type": "code",
   "execution_count": 84,
   "id": "cc21be06",
   "metadata": {},
   "outputs": [],
   "source": [
    "color_index = df_logFC_up_down.up_down.to_frame().reset_index(drop=True).up_down\n",
    "df_logFC_up_down_mtrx = df_logFC_up_down.drop(labels=\"up_down\", axis=1)\n",
    "lut_row = {'Increased Flux': '#018571',\n",
    " 'Decreased Flux': '#d95f02'}\n",
    "row_colors = color_index.map(lut_row)\n",
    "row_colors.index = df_logFC_up_down_mtrx.index\n",
    "row_colors.name =None"
   ]
  },
  {
   "cell_type": "code",
   "execution_count": 86,
   "id": "f08fdc47",
   "metadata": {},
   "outputs": [
    {
     "data": {
      "text/plain": [
       "[None, None, None, None, None, None, None, None, None, None, None, None]"
      ]
     },
     "execution_count": 86,
     "metadata": {},
     "output_type": "execute_result"
    },
    {
     "data": {
      "image/png": "[encoded data removed]",
      "text/plain": [
       "<Figure size 864x576 with 4 Axes>"
      ]
     },
     "metadata": {},
     "output_type": "display_data"
    }
   ],
   "source": [
    "#plot\n",
    "g = sns.clustermap(df_logFC_up_down_mtrx, row_colors=row_colors, row_cluster=False, \n",
    "                col_cluster=True, \n",
    "               linewidths=0.0, \n",
    "               cmap=['#bdd7e7', '#08519c'], \n",
    "                   figsize=(12,8),cbar_pos=None\n",
    "                  )\n",
    "\n",
    "for label in df_logFC_up_down.up_down.unique():\n",
    "         g.ax_row_dendrogram.bar(0, 0, color=lut_row[label],\n",
    "                            label=label, linewidth=0)\n",
    "g.ax_row_dendrogram.legend(loc=\"upper right\", ncol=1)\n",
    "#.cax.set_position([.97, .2, .03, .45])\n",
    "\n",
    "hm = g.ax_heatmap.get_position()\n",
    "plt.setp(g.ax_heatmap.yaxis.get_majorticklabels(), fontsize=6)\n",
    "g.ax_heatmap.set_position([hm.x0, hm.y0, hm.width*0.25, hm.height])\n",
    "col = g.ax_col_dendrogram.get_position()\n",
    "g.ax_col_dendrogram.set_position([col.x0, col.y0, col.width*0.25, col.height*0.5])\n",
    "g.ax_heatmap.tick_params(axis = 'y', label2On=False)\n",
    "plt.setp(g.ax_heatmap.get_xticklabels(), rotation=90)\n",
    "#plt.savefig('shared_subs_up_down.svg')"
   ]
  },
  {
   "cell_type": "code",
   "execution_count": null,
   "id": "4457b371",
   "metadata": {},
   "outputs": [],
   "source": []
  }
 ],
 "metadata": {
  "kernelspec": {
   "display_name": "Python 3",
   "language": "python",
   "name": "python3"
  },
  "language_info": {
   "codemirror_mode": {
    "name": "ipython",
    "version": 3
   },
   "file_extension": ".py",
   "mimetype": "text/x-python",
   "name": "python",
   "nbconvert_exporter": "python",
   "pygments_lexer": "ipython3",
   "version": "3.7.11"
  },
  "toc": {
   "base_numbering": 1,
   "nav_menu": {},
   "number_sections": true,
   "sideBar": true,
   "skip_h1_title": false,
   "title_cell": "Table of Contents",
   "title_sidebar": "Contents",
   "toc_cell": true,
   "toc_position": {},
   "toc_section_display": true,
   "toc_window_display": false
  }
 },
 "nbformat": 4,
 "nbformat_minor": 5
}
